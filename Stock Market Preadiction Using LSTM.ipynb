{
 "cells": [
  {
   "cell_type": "markdown",
   "id": "c427de70",
   "metadata": {},
   "source": [
    "# Stock Market Preadiction And Forecasting Using LSTM"
   ]
  },
  {
   "cell_type": "markdown",
   "id": "5f10c223",
   "metadata": {},
   "source": [
    "## 1. We will collect the Stock Data- Axis Bank"
   ]
  },
  {
   "cell_type": "code",
   "execution_count": 1,
   "id": "2fb5fc47",
   "metadata": {},
   "outputs": [],
   "source": [
    "import yfinance as yf"
   ]
  },
  {
   "cell_type": "code",
   "execution_count": 2,
   "id": "bc6718ec",
   "metadata": {},
   "outputs": [
    {
     "name": "stdout",
     "output_type": "stream",
     "text": [
      "[*********************100%***********************]  1 of 1 completed\n"
     ]
    }
   ],
   "source": [
    "df=yf.download('AXISBANK.NS') #Download data from yfinance"
   ]
  },
  {
   "cell_type": "code",
   "execution_count": 3,
   "id": "9da92318",
   "metadata": {},
   "outputs": [],
   "source": [
    "import pandas_datareader as pdr"
   ]
  },
  {
   "cell_type": "code",
   "execution_count": 4,
   "id": "0657a850",
   "metadata": {},
   "outputs": [],
   "source": [
    "#yfinance is a financial data service that provides various financial data, including stock market data, news, and analysis."
   ]
  },
  {
   "cell_type": "code",
   "execution_count": 5,
   "id": "75ac057c",
   "metadata": {},
   "outputs": [],
   "source": [
    "df.to_csv('META.csv') #Save that file in csv mode "
   ]
  },
  {
   "cell_type": "code",
   "execution_count": 6,
   "id": "872e17f0",
   "metadata": {},
   "outputs": [],
   "source": [
    "import pandas as pd"
   ]
  },
  {
   "cell_type": "code",
   "execution_count": 7,
   "id": "cd3a85aa",
   "metadata": {},
   "outputs": [],
   "source": [
    "df=pd.read_csv('META.csv')"
   ]
  },
  {
   "cell_type": "code",
   "execution_count": 8,
   "id": "7a08bea2",
   "metadata": {},
   "outputs": [],
   "source": [
    "df2=pd.read_csv('META.csv')"
   ]
  },
  {
   "cell_type": "code",
   "execution_count": 53,
   "id": "f91bd3af",
   "metadata": {},
   "outputs": [
    {
     "data": {
      "text/html": [
       "<div>\n",
       "<style scoped>\n",
       "    .dataframe tbody tr th:only-of-type {\n",
       "        vertical-align: middle;\n",
       "    }\n",
       "\n",
       "    .dataframe tbody tr th {\n",
       "        vertical-align: top;\n",
       "    }\n",
       "\n",
       "    .dataframe thead th {\n",
       "        text-align: right;\n",
       "    }\n",
       "</style>\n",
       "<table border=\"1\" class=\"dataframe\">\n",
       "  <thead>\n",
       "    <tr style=\"text-align: right;\">\n",
       "      <th></th>\n",
       "      <th>Date</th>\n",
       "      <th>Open</th>\n",
       "      <th>High</th>\n",
       "      <th>Low</th>\n",
       "      <th>Close</th>\n",
       "      <th>Adj Close</th>\n",
       "      <th>Volume</th>\n",
       "    </tr>\n",
       "  </thead>\n",
       "  <tbody>\n",
       "    <tr>\n",
       "      <th>0</th>\n",
       "      <td>1998-11-27</td>\n",
       "      <td>3.550000</td>\n",
       "      <td>3.550000</td>\n",
       "      <td>2.710000</td>\n",
       "      <td>3.400000</td>\n",
       "      <td>2.255442</td>\n",
       "      <td>21000</td>\n",
       "    </tr>\n",
       "    <tr>\n",
       "      <th>1</th>\n",
       "      <td>1998-11-30</td>\n",
       "      <td>3.250000</td>\n",
       "      <td>3.300000</td>\n",
       "      <td>3.100000</td>\n",
       "      <td>3.210000</td>\n",
       "      <td>2.129403</td>\n",
       "      <td>132000</td>\n",
       "    </tr>\n",
       "    <tr>\n",
       "      <th>2</th>\n",
       "      <td>1998-12-01</td>\n",
       "      <td>3.290000</td>\n",
       "      <td>3.460000</td>\n",
       "      <td>3.220000</td>\n",
       "      <td>3.390000</td>\n",
       "      <td>2.248808</td>\n",
       "      <td>123500</td>\n",
       "    </tr>\n",
       "    <tr>\n",
       "      <th>3</th>\n",
       "      <td>1998-12-02</td>\n",
       "      <td>3.360000</td>\n",
       "      <td>3.440000</td>\n",
       "      <td>3.320000</td>\n",
       "      <td>3.390000</td>\n",
       "      <td>2.248808</td>\n",
       "      <td>75500</td>\n",
       "    </tr>\n",
       "    <tr>\n",
       "      <th>4</th>\n",
       "      <td>1998-12-03</td>\n",
       "      <td>3.440000</td>\n",
       "      <td>3.490000</td>\n",
       "      <td>3.370000</td>\n",
       "      <td>3.390000</td>\n",
       "      <td>2.248808</td>\n",
       "      <td>102000</td>\n",
       "    </tr>\n",
       "    <tr>\n",
       "      <th>...</th>\n",
       "      <td>...</td>\n",
       "      <td>...</td>\n",
       "      <td>...</td>\n",
       "      <td>...</td>\n",
       "      <td>...</td>\n",
       "      <td>...</td>\n",
       "      <td>...</td>\n",
       "    </tr>\n",
       "    <tr>\n",
       "      <th>6318</th>\n",
       "      <td>2024-03-01</td>\n",
       "      <td>1076.000000</td>\n",
       "      <td>1101.699951</td>\n",
       "      <td>1076.000000</td>\n",
       "      <td>1099.250000</td>\n",
       "      <td>1099.250000</td>\n",
       "      <td>4819390</td>\n",
       "    </tr>\n",
       "    <tr>\n",
       "      <th>6319</th>\n",
       "      <td>2024-03-04</td>\n",
       "      <td>1099.250000</td>\n",
       "      <td>1108.900024</td>\n",
       "      <td>1093.099976</td>\n",
       "      <td>1106.750000</td>\n",
       "      <td>1106.750000</td>\n",
       "      <td>5895441</td>\n",
       "    </tr>\n",
       "    <tr>\n",
       "      <th>6320</th>\n",
       "      <td>2024-03-05</td>\n",
       "      <td>1102.199951</td>\n",
       "      <td>1110.900024</td>\n",
       "      <td>1094.500000</td>\n",
       "      <td>1100.800049</td>\n",
       "      <td>1100.800049</td>\n",
       "      <td>4851446</td>\n",
       "    </tr>\n",
       "    <tr>\n",
       "      <th>6321</th>\n",
       "      <td>2024-03-06</td>\n",
       "      <td>1100.199951</td>\n",
       "      <td>1131.949951</td>\n",
       "      <td>1095.349976</td>\n",
       "      <td>1125.000000</td>\n",
       "      <td>1125.000000</td>\n",
       "      <td>13787638</td>\n",
       "    </tr>\n",
       "    <tr>\n",
       "      <th>6322</th>\n",
       "      <td>2024-03-07</td>\n",
       "      <td>1126.000000</td>\n",
       "      <td>1126.900024</td>\n",
       "      <td>1107.550049</td>\n",
       "      <td>1111.449951</td>\n",
       "      <td>1111.449951</td>\n",
       "      <td>6943879</td>\n",
       "    </tr>\n",
       "  </tbody>\n",
       "</table>\n",
       "<p>6323 rows × 7 columns</p>\n",
       "</div>"
      ],
      "text/plain": [
       "            Date         Open         High          Low        Close  \\\n",
       "0     1998-11-27     3.550000     3.550000     2.710000     3.400000   \n",
       "1     1998-11-30     3.250000     3.300000     3.100000     3.210000   \n",
       "2     1998-12-01     3.290000     3.460000     3.220000     3.390000   \n",
       "3     1998-12-02     3.360000     3.440000     3.320000     3.390000   \n",
       "4     1998-12-03     3.440000     3.490000     3.370000     3.390000   \n",
       "...          ...          ...          ...          ...          ...   \n",
       "6318  2024-03-01  1076.000000  1101.699951  1076.000000  1099.250000   \n",
       "6319  2024-03-04  1099.250000  1108.900024  1093.099976  1106.750000   \n",
       "6320  2024-03-05  1102.199951  1110.900024  1094.500000  1100.800049   \n",
       "6321  2024-03-06  1100.199951  1131.949951  1095.349976  1125.000000   \n",
       "6322  2024-03-07  1126.000000  1126.900024  1107.550049  1111.449951   \n",
       "\n",
       "        Adj Close    Volume  \n",
       "0        2.255442     21000  \n",
       "1        2.129403    132000  \n",
       "2        2.248808    123500  \n",
       "3        2.248808     75500  \n",
       "4        2.248808    102000  \n",
       "...           ...       ...  \n",
       "6318  1099.250000   4819390  \n",
       "6319  1106.750000   5895441  \n",
       "6320  1100.800049   4851446  \n",
       "6321  1125.000000  13787638  \n",
       "6322  1111.449951   6943879  \n",
       "\n",
       "[6323 rows x 7 columns]"
      ]
     },
     "execution_count": 53,
     "metadata": {},
     "output_type": "execute_result"
    }
   ],
   "source": [
    "df2"
   ]
  },
  {
   "cell_type": "code",
   "execution_count": null,
   "id": "dab9e684",
   "metadata": {},
   "outputs": [],
   "source": []
  },
  {
   "cell_type": "code",
   "execution_count": 10,
   "id": "5bbbe789",
   "metadata": {},
   "outputs": [],
   "source": [
    "df1=df.reset_index()['Close']"
   ]
  },
  {
   "cell_type": "code",
   "execution_count": 11,
   "id": "a298f605",
   "metadata": {},
   "outputs": [
    {
     "data": {
      "text/plain": [
       "0          3.400000\n",
       "1          3.210000\n",
       "2          3.390000\n",
       "3          3.390000\n",
       "4          3.390000\n",
       "           ...     \n",
       "6318    1099.250000\n",
       "6319    1106.750000\n",
       "6320    1100.800049\n",
       "6321    1125.000000\n",
       "6322    1111.449951\n",
       "Name: Close, Length: 6323, dtype: float64"
      ]
     },
     "execution_count": 11,
     "metadata": {},
     "output_type": "execute_result"
    }
   ],
   "source": [
    "df1"
   ]
  },
  {
   "cell_type": "code",
   "execution_count": null,
   "id": "dbd1acf2",
   "metadata": {},
   "outputs": [],
   "source": []
  },
  {
   "cell_type": "code",
   "execution_count": null,
   "id": "2afa6530",
   "metadata": {},
   "outputs": [],
   "source": []
  },
  {
   "cell_type": "code",
   "execution_count": 12,
   "id": "c7f6678f",
   "metadata": {},
   "outputs": [
    {
     "data": {
      "text/plain": [
       "(6323,)"
      ]
     },
     "execution_count": 12,
     "metadata": {},
     "output_type": "execute_result"
    }
   ],
   "source": [
    "df1.shape"
   ]
  },
  {
   "cell_type": "code",
   "execution_count": 13,
   "id": "09c36869",
   "metadata": {},
   "outputs": [
    {
     "data": {
      "text/plain": [
       "[<matplotlib.lines.Line2D at 0x1bced322830>]"
      ]
     },
     "execution_count": 13,
     "metadata": {},
     "output_type": "execute_result"
    },
    {
     "data": {
      "image/png": "[encoded data removed]",
      "text/plain": [
       "<Figure size 640x480 with 1 Axes>"
      ]
     },
     "metadata": {},
     "output_type": "display_data"
    }
   ],
   "source": [
    "import matplotlib.pyplot as plt\n",
    "plt.plot(df1)"
   ]
  },
  {
   "cell_type": "code",
   "execution_count": 14,
   "id": "1b403b55",
   "metadata": {},
   "outputs": [
    {
     "data": {
      "text/plain": [
       "0          3.400000\n",
       "1          3.210000\n",
       "2          3.390000\n",
       "3          3.390000\n",
       "4          3.390000\n",
       "           ...     \n",
       "6318    1099.250000\n",
       "6319    1106.750000\n",
       "6320    1100.800049\n",
       "6321    1125.000000\n",
       "6322    1111.449951\n",
       "Name: Close, Length: 6323, dtype: float64"
      ]
     },
     "execution_count": 14,
     "metadata": {},
     "output_type": "execute_result"
    }
   ],
   "source": [
    "df1"
   ]
  },
  {
   "cell_type": "code",
   "execution_count": 15,
   "id": "5117381f",
   "metadata": {},
   "outputs": [],
   "source": [
    "#LSTM are sensitive to scale of the data. So we apply MinMax scaler(to transform my value between 0 and 1)"
   ]
  },
  {
   "cell_type": "code",
   "execution_count": 16,
   "id": "1301742c",
   "metadata": {},
   "outputs": [],
   "source": [
    "import numpy as np"
   ]
  },
  {
   "cell_type": "code",
   "execution_count": 17,
   "id": "c9582fed",
   "metadata": {},
   "outputs": [],
   "source": [
    "from sklearn.preprocessing import MinMaxScaler\n",
    "scaler=MinMaxScaler(feature_range=(0,1))\n",
    "df1=scaler.fit_transform(np.array(df1).reshape(-1,1))"
   ]
  },
  {
   "cell_type": "code",
   "execution_count": 18,
   "id": "06f83ccd",
   "metadata": {},
   "outputs": [
    {
     "name": "stdout",
     "output_type": "stream",
     "text": [
      "[[8.19758926e-04]\n",
      " [6.52281258e-04]\n",
      " [8.10944323e-04]\n",
      " ...\n",
      " [9.68135266e-01]\n",
      " [9.89466582e-01]\n",
      " [9.77522741e-01]]\n"
     ]
    }
   ],
   "source": [
    "print(df1)"
   ]
  },
  {
   "cell_type": "code",
   "execution_count": 19,
   "id": "15a81257",
   "metadata": {},
   "outputs": [
    {
     "data": {
      "text/plain": [
       "(6323, 1)"
      ]
     },
     "execution_count": 19,
     "metadata": {},
     "output_type": "execute_result"
    }
   ],
   "source": [
    "df1.shape"
   ]
  },
  {
   "cell_type": "code",
   "execution_count": 20,
   "id": "33a8c62a",
   "metadata": {},
   "outputs": [
    {
     "data": {
      "text/plain": [
       "[<matplotlib.lines.Line2D at 0x1bced322a70>]"
      ]
     },
     "execution_count": 20,
     "metadata": {},
     "output_type": "execute_result"
    },
    {
     "data": {
      "image/png": "[encoded data removed]",
      "text/plain": [
       "<Figure size 640x480 with 1 Axes>"
      ]
     },
     "metadata": {},
     "output_type": "display_data"
    }
   ],
   "source": [
    "plt.plot(df1)"
   ]
  },
  {
   "cell_type": "markdown",
   "id": "993ecbce",
   "metadata": {},
   "source": [
    "## 2. Preprocess the data - Train and Test"
   ]
  },
  {
   "cell_type": "code",
   "execution_count": 21,
   "id": "019a34d4",
   "metadata": {},
   "outputs": [],
   "source": [
    "# Splitting dataset into train and test split(It's not normal way)\n",
    "training_size=int(len(df1)*0.65)\n",
    "test_size=len(df1)-training_size\n",
    "train_data,test_data=df1[0:training_size,:],df1[training_size:len(df1),:1]"
   ]
  },
  {
   "cell_type": "code",
   "execution_count": 22,
   "id": "b6643342",
   "metadata": {},
   "outputs": [
    {
     "data": {
      "text/plain": [
       "(4109, 2214)"
      ]
     },
     "execution_count": 22,
     "metadata": {},
     "output_type": "execute_result"
    }
   ],
   "source": [
    "training_size,test_size"
   ]
  },
  {
   "cell_type": "code",
   "execution_count": 23,
   "id": "b8b71e18",
   "metadata": {},
   "outputs": [
    {
     "data": {
      "text/plain": [
       "4109"
      ]
     },
     "execution_count": 23,
     "metadata": {},
     "output_type": "execute_result"
    }
   ],
   "source": [
    "len(train_data)"
   ]
  },
  {
   "cell_type": "code",
   "execution_count": 24,
   "id": "8c6a8d22",
   "metadata": {},
   "outputs": [],
   "source": [
    "import numpy as np\n",
    "# Convert an array of values into a dataset matrix\n",
    "def create_dataset(dataset, time_step=1):\n",
    "    dataX,dataY=[],[]\n",
    "    for i in range(len(dataset)-time_step-1):\n",
    "        a=dataset[i:(i+time_step),0]   ## for 0th ittration,i=0. 0,1,2,3,...,100 elements will be going into 1st record(if time_step=100)\n",
    "        dataX.append(a)  # 101th element in go in X record\n",
    "        dataY.append(dataset[i+time_step,0])\n",
    "    return np.array(dataX),np.array(dataY)"
   ]
  },
  {
   "cell_type": "code",
   "execution_count": 25,
   "id": "32cd40cc",
   "metadata": {},
   "outputs": [],
   "source": [
    "# reshape into x=t, t+1, t+2, t+3 and y=t+4\n",
    "time_step=100\n",
    "x_train,y_train=create_dataset(train_data,time_step)\n",
    "x_test,y_test=create_dataset(test_data,time_step)"
   ]
  },
  {
   "cell_type": "code",
   "execution_count": 26,
   "id": "f47cfcbd",
   "metadata": {},
   "outputs": [
    {
     "name": "stdout",
     "output_type": "stream",
     "text": [
      "[[8.19758926e-04 6.52281258e-04 8.10944323e-04 ... 1.49848462e-04\n",
      "  1.49848462e-04 1.14589840e-04]\n",
      " [6.52281258e-04 8.10944323e-04 8.10944323e-04 ... 1.49848462e-04\n",
      "  1.14589840e-04 1.05775237e-04]\n",
      " [8.10944323e-04 8.10944323e-04 8.10944323e-04 ... 1.14589840e-04\n",
      "  1.05775237e-04 1.49848462e-04]\n",
      " ...\n",
      " [3.44809966e-01 3.51817593e-01 3.66141337e-01 ... 5.12684226e-01\n",
      "  5.00255645e-01 4.99021578e-01]\n",
      " [3.51817593e-01 3.66141337e-01 3.70724919e-01 ... 5.00255645e-01\n",
      "  4.99021578e-01 5.09158381e-01]\n",
      " [3.66141337e-01 3.70724919e-01 3.71958986e-01 ... 4.99021578e-01\n",
      "  5.09158381e-01 5.10172083e-01]]\n"
     ]
    }
   ],
   "source": [
    "print(x_train)"
   ]
  },
  {
   "cell_type": "code",
   "execution_count": 27,
   "id": "2af8b1db",
   "metadata": {},
   "outputs": [
    {
     "data": {
      "text/plain": [
       "(4008, 100)"
      ]
     },
     "execution_count": 27,
     "metadata": {},
     "output_type": "execute_result"
    }
   ],
   "source": [
    "x_train.shape"
   ]
  },
  {
   "cell_type": "markdown",
   "id": "1054be62",
   "metadata": {},
   "source": [
    "### 3.Create an Stacked LSTM Model"
   ]
  },
  {
   "cell_type": "code",
   "execution_count": 28,
   "id": "61291a25",
   "metadata": {},
   "outputs": [],
   "source": [
    "# reshape x_train,x_test from 2D to 3D [sample,time_step,feature] which is required for LSTM\n",
    "x_train=x_train.reshape(x_train.shape[0],x_train.shape[1],1)\n",
    "x_test=x_test.reshape(x_test.shape[0],x_test.shape[1],1)"
   ]
  },
  {
   "cell_type": "code",
   "execution_count": 29,
   "id": "b4b7eefc",
   "metadata": {},
   "outputs": [],
   "source": [
    "# Create the Stacke LSTM model (stacke LSTM means one LSTM after the other )\n",
    "from tensorflow.keras.models import Sequential\n",
    "from tensorflow.keras.layers import Dense\n",
    "from tensorflow.keras.layers import LSTM"
   ]
  },
  {
   "cell_type": "code",
   "execution_count": 31,
   "id": "07747e2c",
   "metadata": {},
   "outputs": [],
   "source": [
    "model=Sequential()\n",
    "model.add(LSTM(50,return_sequences=True,input_shape=(100,1))) # input_shape =(x_train.shape[1],1)\n",
    "model.add(LSTM(50,return_sequences=True))\n",
    "model.add(LSTM(50))\n",
    "model.add(Dense(1))\n",
    "model.compile(loss='mean_squared_error',optimizer='adam')"
   ]
  },
  {
   "cell_type": "code",
   "execution_count": 32,
   "id": "c5c6ee88",
   "metadata": {},
   "outputs": [
    {
     "name": "stdout",
     "output_type": "stream",
     "text": [
      "Model: \"sequential_1\"\n",
      "_________________________________________________________________\n",
      " Layer (type)                Output Shape              Param #   \n",
      "=================================================================\n",
      " lstm_3 (LSTM)               (None, 100, 50)           10400     \n",
      "                                                                 \n",
      " lstm_4 (LSTM)               (None, 100, 50)           20200     \n",
      "                                                                 \n",
      " lstm_5 (LSTM)               (None, 50)                20200     \n",
      "                                                                 \n",
      " dense_1 (Dense)             (None, 1)                 51        \n",
      "                                                                 \n",
      "=================================================================\n",
      "Total params: 50851 (198.64 KB)\n",
      "Trainable params: 50851 (198.64 KB)\n",
      "Non-trainable params: 0 (0.00 Byte)\n",
      "_________________________________________________________________\n"
     ]
    }
   ],
   "source": [
    "model.summary()"
   ]
  },
  {
   "cell_type": "code",
   "execution_count": 33,
   "id": "e1588014",
   "metadata": {},
   "outputs": [
    {
     "name": "stdout",
     "output_type": "stream",
     "text": [
      "Epoch 1/100\n",
      "63/63 [==============================] - 23s 261ms/step - loss: 0.0016 - val_loss: 0.0017\n",
      "Epoch 2/100\n",
      "63/63 [==============================] - 15s 244ms/step - loss: 1.1964e-04 - val_loss: 0.0013\n",
      "Epoch 3/100\n",
      "63/63 [==============================] - 15s 236ms/step - loss: 1.1628e-04 - val_loss: 0.0015\n",
      "Epoch 4/100\n",
      "63/63 [==============================] - 15s 238ms/step - loss: 1.2643e-04 - val_loss: 0.0018\n",
      "Epoch 5/100\n",
      "63/63 [==============================] - 15s 237ms/step - loss: 1.0968e-04 - val_loss: 0.0012\n",
      "Epoch 6/100\n",
      "63/63 [==============================] - 15s 238ms/step - loss: 1.0288e-04 - val_loss: 0.0011\n",
      "Epoch 7/100\n",
      "63/63 [==============================] - 15s 236ms/step - loss: 9.7016e-05 - val_loss: 8.7828e-04\n",
      "Epoch 8/100\n",
      "63/63 [==============================] - 15s 237ms/step - loss: 9.9102e-05 - val_loss: 8.3808e-04\n",
      "Epoch 9/100\n",
      "63/63 [==============================] - 15s 234ms/step - loss: 9.2747e-05 - val_loss: 7.9315e-04\n",
      "Epoch 10/100\n",
      "63/63 [==============================] - 15s 236ms/step - loss: 8.4852e-05 - val_loss: 8.1513e-04\n",
      "Epoch 11/100\n",
      "63/63 [==============================] - 15s 234ms/step - loss: 8.5868e-05 - val_loss: 8.7748e-04\n",
      "Epoch 12/100\n",
      "63/63 [==============================] - 15s 236ms/step - loss: 1.0403e-04 - val_loss: 6.8097e-04\n",
      "Epoch 13/100\n",
      "63/63 [==============================] - 15s 234ms/step - loss: 8.2042e-05 - val_loss: 9.2927e-04\n",
      "Epoch 14/100\n",
      "63/63 [==============================] - 15s 238ms/step - loss: 8.1760e-05 - val_loss: 6.6360e-04\n",
      "Epoch 15/100\n",
      "63/63 [==============================] - 15s 234ms/step - loss: 8.4787e-05 - val_loss: 9.2772e-04\n",
      "Epoch 16/100\n",
      "63/63 [==============================] - 15s 235ms/step - loss: 7.4736e-05 - val_loss: 7.2012e-04\n",
      "Epoch 17/100\n",
      "63/63 [==============================] - 15s 235ms/step - loss: 7.3887e-05 - val_loss: 5.9343e-04\n",
      "Epoch 18/100\n",
      "63/63 [==============================] - 15s 239ms/step - loss: 7.2356e-05 - val_loss: 6.4053e-04\n",
      "Epoch 19/100\n",
      "63/63 [==============================] - 15s 239ms/step - loss: 7.6422e-05 - val_loss: 7.0391e-04\n",
      "Epoch 20/100\n",
      "63/63 [==============================] - 15s 238ms/step - loss: 7.7136e-05 - val_loss: 6.5857e-04\n",
      "Epoch 21/100\n",
      "63/63 [==============================] - 15s 236ms/step - loss: 6.5323e-05 - val_loss: 4.6304e-04\n",
      "Epoch 22/100\n",
      "63/63 [==============================] - 15s 237ms/step - loss: 6.0822e-05 - val_loss: 4.6559e-04\n",
      "Epoch 23/100\n",
      "63/63 [==============================] - 15s 238ms/step - loss: 5.8900e-05 - val_loss: 7.5146e-04\n",
      "Epoch 24/100\n",
      "63/63 [==============================] - 15s 238ms/step - loss: 5.5252e-05 - val_loss: 4.4278e-04\n",
      "Epoch 25/100\n",
      "63/63 [==============================] - 15s 237ms/step - loss: 6.3265e-05 - val_loss: 5.7927e-04\n",
      "Epoch 26/100\n",
      "63/63 [==============================] - 15s 237ms/step - loss: 6.7314e-05 - val_loss: 4.2248e-04\n",
      "Epoch 27/100\n",
      "63/63 [==============================] - 15s 235ms/step - loss: 5.3550e-05 - val_loss: 3.4034e-04\n",
      "Epoch 28/100\n",
      "63/63 [==============================] - 15s 240ms/step - loss: 5.0990e-05 - val_loss: 6.2967e-04\n",
      "Epoch 29/100\n",
      "63/63 [==============================] - 15s 236ms/step - loss: 5.1845e-05 - val_loss: 3.8440e-04\n",
      "Epoch 30/100\n",
      "63/63 [==============================] - 15s 237ms/step - loss: 4.6968e-05 - val_loss: 3.4118e-04\n",
      "Epoch 31/100\n",
      "63/63 [==============================] - 15s 236ms/step - loss: 4.7103e-05 - val_loss: 4.1639e-04\n",
      "Epoch 32/100\n",
      "63/63 [==============================] - 15s 238ms/step - loss: 4.3169e-05 - val_loss: 3.8941e-04\n",
      "Epoch 33/100\n",
      "63/63 [==============================] - 15s 237ms/step - loss: 4.0189e-05 - val_loss: 2.6557e-04\n",
      "Epoch 34/100\n",
      "63/63 [==============================] - 15s 239ms/step - loss: 4.1179e-05 - val_loss: 2.4523e-04\n",
      "Epoch 35/100\n",
      "63/63 [==============================] - 15s 240ms/step - loss: 4.4056e-05 - val_loss: 2.7659e-04\n",
      "Epoch 36/100\n",
      "63/63 [==============================] - 15s 238ms/step - loss: 4.7319e-05 - val_loss: 3.2275e-04\n",
      "Epoch 37/100\n",
      "63/63 [==============================] - 15s 235ms/step - loss: 4.2505e-05 - val_loss: 2.2503e-04\n",
      "Epoch 38/100\n",
      "63/63 [==============================] - 15s 238ms/step - loss: 4.0993e-05 - val_loss: 2.3351e-04\n",
      "Epoch 39/100\n",
      "63/63 [==============================] - 15s 239ms/step - loss: 3.3905e-05 - val_loss: 2.0397e-04\n",
      "Epoch 40/100\n",
      "63/63 [==============================] - 32s 510ms/step - loss: 3.1502e-05 - val_loss: 2.0438e-04\n",
      "Epoch 41/100\n",
      "63/63 [==============================] - 15s 238ms/step - loss: 3.4242e-05 - val_loss: 2.6279e-04\n",
      "Epoch 42/100\n",
      "63/63 [==============================] - 15s 236ms/step - loss: 3.6571e-05 - val_loss: 2.2099e-04\n",
      "Epoch 43/100\n",
      "63/63 [==============================] - 14s 218ms/step - loss: 3.2229e-05 - val_loss: 3.4252e-04\n",
      "Epoch 44/100\n",
      "63/63 [==============================] - 15s 239ms/step - loss: 3.1120e-05 - val_loss: 1.7817e-04\n",
      "Epoch 45/100\n",
      "63/63 [==============================] - 15s 239ms/step - loss: 2.6649e-05 - val_loss: 1.9135e-04\n",
      "Epoch 46/100\n",
      "63/63 [==============================] - 15s 238ms/step - loss: 2.5974e-05 - val_loss: 2.0532e-04\n",
      "Epoch 47/100\n",
      "63/63 [==============================] - 15s 239ms/step - loss: 3.0746e-05 - val_loss: 1.9006e-04\n",
      "Epoch 48/100\n",
      "63/63 [==============================] - 15s 237ms/step - loss: 2.5974e-05 - val_loss: 1.7160e-04\n",
      "Epoch 49/100\n",
      "63/63 [==============================] - 15s 238ms/step - loss: 2.8680e-05 - val_loss: 1.7718e-04\n",
      "Epoch 50/100\n",
      "63/63 [==============================] - 15s 239ms/step - loss: 2.5574e-05 - val_loss: 1.7043e-04\n",
      "Epoch 51/100\n",
      "63/63 [==============================] - 15s 237ms/step - loss: 2.5153e-05 - val_loss: 2.2519e-04\n",
      "Epoch 52/100\n",
      "63/63 [==============================] - 15s 237ms/step - loss: 2.3531e-05 - val_loss: 1.5900e-04\n",
      "Epoch 53/100\n",
      "63/63 [==============================] - 153s 2s/step - loss: 2.5436e-05 - val_loss: 2.3489e-04\n",
      "Epoch 54/100\n",
      "63/63 [==============================] - 15s 240ms/step - loss: 2.2885e-05 - val_loss: 3.3795e-04\n",
      "Epoch 55/100\n",
      "63/63 [==============================] - 15s 238ms/step - loss: 2.1855e-05 - val_loss: 1.3596e-04\n",
      "Epoch 56/100\n",
      "63/63 [==============================] - 15s 238ms/step - loss: 2.2932e-05 - val_loss: 1.7181e-04\n",
      "Epoch 57/100\n",
      "63/63 [==============================] - 15s 237ms/step - loss: 3.1711e-05 - val_loss: 3.5769e-04\n",
      "Epoch 58/100\n",
      "63/63 [==============================] - 15s 239ms/step - loss: 2.5887e-05 - val_loss: 1.8253e-04\n",
      "Epoch 59/100\n",
      "63/63 [==============================] - 15s 240ms/step - loss: 2.4414e-05 - val_loss: 2.7932e-04\n",
      "Epoch 60/100\n",
      "63/63 [==============================] - 15s 238ms/step - loss: 2.3402e-05 - val_loss: 1.6508e-04\n",
      "Epoch 61/100\n",
      "63/63 [==============================] - 15s 240ms/step - loss: 2.1103e-05 - val_loss: 1.5036e-04\n",
      "Epoch 62/100\n",
      "63/63 [==============================] - 15s 240ms/step - loss: 1.9917e-05 - val_loss: 1.7350e-04\n",
      "Epoch 63/100\n",
      "63/63 [==============================] - 15s 241ms/step - loss: 2.4734e-05 - val_loss: 1.7446e-04\n",
      "Epoch 64/100\n",
      "63/63 [==============================] - 15s 239ms/step - loss: 2.1763e-05 - val_loss: 1.5168e-04\n",
      "Epoch 65/100\n",
      "63/63 [==============================] - 15s 240ms/step - loss: 2.1051e-05 - val_loss: 1.4291e-04\n",
      "Epoch 66/100\n",
      "63/63 [==============================] - 13s 204ms/step - loss: 2.0201e-05 - val_loss: 1.4593e-04\n",
      "Epoch 67/100\n",
      "63/63 [==============================] - 15s 236ms/step - loss: 1.7942e-05 - val_loss: 1.9844e-04\n",
      "Epoch 68/100\n",
      "63/63 [==============================] - 116s 2s/step - loss: 2.1387e-05 - val_loss: 2.0108e-04\n",
      "Epoch 69/100\n",
      "63/63 [==============================] - 15s 240ms/step - loss: 1.9269e-05 - val_loss: 1.5726e-04\n",
      "Epoch 70/100\n",
      "63/63 [==============================] - 15s 239ms/step - loss: 2.1095e-05 - val_loss: 2.2548e-04\n",
      "Epoch 71/100\n",
      "63/63 [==============================] - 15s 239ms/step - loss: 2.2514e-05 - val_loss: 2.6597e-04\n",
      "Epoch 72/100\n",
      "63/63 [==============================] - 15s 239ms/step - loss: 2.2752e-05 - val_loss: 1.8230e-04\n",
      "Epoch 73/100\n",
      "63/63 [==============================] - 15s 237ms/step - loss: 2.5434e-05 - val_loss: 1.6952e-04\n",
      "Epoch 74/100\n",
      "63/63 [==============================] - 15s 239ms/step - loss: 1.8826e-05 - val_loss: 2.0049e-04\n",
      "Epoch 75/100\n",
      "63/63 [==============================] - 15s 240ms/step - loss: 1.9796e-05 - val_loss: 1.6100e-04\n",
      "Epoch 76/100\n",
      "63/63 [==============================] - 15s 240ms/step - loss: 1.7891e-05 - val_loss: 2.2537e-04\n",
      "Epoch 77/100\n",
      "63/63 [==============================] - 15s 237ms/step - loss: 1.8677e-05 - val_loss: 1.7488e-04\n",
      "Epoch 78/100\n",
      "63/63 [==============================] - 15s 238ms/step - loss: 2.4409e-05 - val_loss: 3.8729e-04\n",
      "Epoch 79/100\n",
      "63/63 [==============================] - 15s 238ms/step - loss: 2.5463e-05 - val_loss: 2.3177e-04\n",
      "Epoch 80/100\n",
      "63/63 [==============================] - 15s 241ms/step - loss: 1.9136e-05 - val_loss: 1.6802e-04\n",
      "Epoch 81/100\n",
      "63/63 [==============================] - 15s 240ms/step - loss: 1.8091e-05 - val_loss: 2.7977e-04\n",
      "Epoch 82/100\n",
      "63/63 [==============================] - 15s 237ms/step - loss: 2.1321e-05 - val_loss: 1.6385e-04\n",
      "Epoch 83/100\n",
      "63/63 [==============================] - 22s 359ms/step - loss: 2.1967e-05 - val_loss: 3.8188e-04\n",
      "Epoch 84/100\n",
      "63/63 [==============================] - 15s 237ms/step - loss: 1.8938e-05 - val_loss: 1.6552e-04\n",
      "Epoch 85/100\n",
      "63/63 [==============================] - 15s 237ms/step - loss: 1.6750e-05 - val_loss: 1.6946e-04\n",
      "Epoch 86/100\n",
      "63/63 [==============================] - 15s 236ms/step - loss: 1.8961e-05 - val_loss: 1.9477e-04\n",
      "Epoch 87/100\n",
      "63/63 [==============================] - 15s 237ms/step - loss: 1.8737e-05 - val_loss: 2.7467e-04\n",
      "Epoch 88/100\n",
      "63/63 [==============================] - 15s 237ms/step - loss: 2.0045e-05 - val_loss: 3.1253e-04\n",
      "Epoch 89/100\n",
      "63/63 [==============================] - 15s 236ms/step - loss: 2.1158e-05 - val_loss: 2.9822e-04\n",
      "Epoch 90/100\n",
      "63/63 [==============================] - 15s 240ms/step - loss: 1.8741e-05 - val_loss: 1.9515e-04\n",
      "Epoch 91/100\n",
      "63/63 [==============================] - 15s 237ms/step - loss: 1.7251e-05 - val_loss: 4.4147e-04\n",
      "Epoch 92/100\n",
      "63/63 [==============================] - 15s 236ms/step - loss: 1.8486e-05 - val_loss: 2.9519e-04\n",
      "Epoch 93/100\n",
      "63/63 [==============================] - 15s 238ms/step - loss: 1.8803e-05 - val_loss: 2.1669e-04\n",
      "Epoch 94/100\n",
      "63/63 [==============================] - 15s 239ms/step - loss: 2.1286e-05 - val_loss: 1.7343e-04\n",
      "Epoch 95/100\n",
      "63/63 [==============================] - 15s 237ms/step - loss: 1.8611e-05 - val_loss: 1.8608e-04\n",
      "Epoch 96/100\n",
      "63/63 [==============================] - 15s 236ms/step - loss: 1.6907e-05 - val_loss: 2.1485e-04\n",
      "Epoch 97/100\n",
      "63/63 [==============================] - 15s 235ms/step - loss: 1.7221e-05 - val_loss: 1.8032e-04\n",
      "Epoch 98/100\n",
      "63/63 [==============================] - 15s 237ms/step - loss: 2.0412e-05 - val_loss: 3.1967e-04\n",
      "Epoch 99/100\n",
      "63/63 [==============================] - 15s 237ms/step - loss: 2.0790e-05 - val_loss: 2.6781e-04\n",
      "Epoch 100/100\n",
      "63/63 [==============================] - 15s 236ms/step - loss: 1.8046e-05 - val_loss: 2.1591e-04\n"
     ]
    },
    {
     "data": {
      "text/plain": [
       "<keras.src.callbacks.History at 0x1bc9083b6d0>"
      ]
     },
     "execution_count": 33,
     "metadata": {},
     "output_type": "execute_result"
    }
   ],
   "source": [
    "model.fit(x_train,y_train,validation_data=(x_test,y_test),epochs=100,batch_size=64,verbose=1)"
   ]
  },
  {
   "cell_type": "markdown",
   "id": "a7cdd498",
   "metadata": {},
   "source": [
    "### 4. Predict the test data and Plot the output"
   ]
  },
  {
   "cell_type": "code",
   "execution_count": 34,
   "id": "76fd1846",
   "metadata": {},
   "outputs": [
    {
     "name": "stdout",
     "output_type": "stream",
     "text": [
      "126/126 [==============================] - 7s 47ms/step\n",
      "67/67 [==============================] - 3s 46ms/step\n"
     ]
    }
   ],
   "source": [
    "# Lets Do the prediction and check performance metrics\n",
    "train_predict=model.predict(x_train)\n",
    "test_predict=model.predict(x_test)"
   ]
  },
  {
   "cell_type": "code",
   "execution_count": 35,
   "id": "70be602f",
   "metadata": {},
   "outputs": [],
   "source": [
    "##Transformback to original form\n",
    "train_predict=scaler.inverse_transform(train_predict)\n",
    "test_predict=scaler.inverse_transform(test_predict)"
   ]
  },
  {
   "cell_type": "code",
   "execution_count": 36,
   "id": "c8150272",
   "metadata": {},
   "outputs": [
    {
     "data": {
      "text/plain": [
       "176.9957192476698"
      ]
     },
     "execution_count": 36,
     "metadata": {},
     "output_type": "execute_result"
    }
   ],
   "source": [
    "### Calculate RMSE performance metrics\n",
    "import math\n",
    "from sklearn.metrics import mean_squared_error\n",
    "math.sqrt(mean_squared_error(y_train,train_predict))"
   ]
  },
  {
   "cell_type": "code",
   "execution_count": 37,
   "id": "d860956e",
   "metadata": {},
   "outputs": [
    {
     "data": {
      "text/plain": [
       "672.6703638577832"
      ]
     },
     "execution_count": 37,
     "metadata": {},
     "output_type": "execute_result"
    }
   ],
   "source": [
    "### Test Data RMSE\n",
    "math.sqrt(mean_squared_error(y_test,test_predict))"
   ]
  },
  {
   "cell_type": "code",
   "execution_count": 38,
   "id": "17984452",
   "metadata": {},
   "outputs": [
    {
     "data": {
      "image/png": "[encoded data removed]",
      "text/plain": [
       "<Figure size 640x480 with 1 Axes>"
      ]
     },
     "metadata": {},
     "output_type": "display_data"
    }
   ],
   "source": [
    "### Plotting \n",
    "# shift train predictions for plotting\n",
    "look_back=100\n",
    "trainPredictPlot = np.empty_like(df1)\n",
    "trainPredictPlot[:, :] = np.nan\n",
    "trainPredictPlot[look_back:len(train_predict)+look_back, :] = train_predict\n",
    "# shift test predictions for plotting\n",
    "testPredictPlot = np.empty_like(df1)\n",
    "testPredictPlot[:, :] = np.nan\n",
    "testPredictPlot[len(train_predict)+(look_back*2)+1:len(df1)-1, :] = test_predict\n",
    "# plot baseline and predictions\n",
    "plt.plot(scaler.inverse_transform(df1))\n",
    "plt.plot(trainPredictPlot)\n",
    "plt.plot(testPredictPlot)\n",
    "plt.show()"
   ]
  },
  {
   "cell_type": "markdown",
   "id": "5dcd8160",
   "metadata": {},
   "source": [
    "### 5. Predict the future 30 days and plot the output "
   ]
  },
  {
   "cell_type": "code",
   "execution_count": 39,
   "id": "6e61c848",
   "metadata": {},
   "outputs": [
    {
     "data": {
      "text/plain": [
       "2214"
      ]
     },
     "execution_count": 39,
     "metadata": {},
     "output_type": "execute_result"
    }
   ],
   "source": [
    "len(test_data)"
   ]
  },
  {
   "cell_type": "code",
   "execution_count": 40,
   "id": "7a2f9db7",
   "metadata": {},
   "outputs": [
    {
     "data": {
      "text/plain": [
       "(1, 100)"
      ]
     },
     "execution_count": 40,
     "metadata": {},
     "output_type": "execute_result"
    }
   ],
   "source": [
    "x_input=test_data[2114:].reshape(1,-1)\n",
    "x_input.shape"
   ]
  },
  {
   "cell_type": "code",
   "execution_count": 41,
   "id": "aacb3eb9",
   "metadata": {},
   "outputs": [
    {
     "data": {
      "text/plain": [
       "array([[0.89554691, 0.87403923, 0.88351494, 0.88637969, 0.87298147,\n",
       "        0.87170339, 0.86196321, 0.84781577, 0.84001486, 0.85464709,\n",
       "        0.88170796, 0.86976417, 0.8632854 , 0.85442672, 0.86425504,\n",
       "        0.86945563, 0.8875697 , 0.8977065 , 0.89841166, 0.89858796,\n",
       "        0.90502256, 0.90162896, 0.91573234, 0.90251042, 0.87430366,\n",
       "        0.86932344, 0.87205595, 0.87760914, 0.87844654, 0.88677636,\n",
       "        0.89792686, 0.93230385, 0.94473243, 0.97152887, 0.98999544,\n",
       "        0.99603342, 0.98550001, 0.98316411, 0.9949316 , 0.98197416,\n",
       "        0.99475535, 0.98051973, 0.98545589, 0.98536777, 0.97743462,\n",
       "        0.98527964, 0.97646503, 0.96337535, 0.957117  , 0.96236165,\n",
       "        0.97302731, 0.9743495 , 0.96945746, 0.96540265, 0.96148019,\n",
       "        0.96619599, 0.98805627, 1.        , 0.9868222 , 0.98201828,\n",
       "        0.97360028, 0.99012768, 0.98536777, 0.98461855, 0.98426594,\n",
       "        0.95182823, 0.9652264 , 0.98201828, 0.95795435, 0.93142239,\n",
       "        0.91652567, 0.93327343, 0.92697097, 0.93900293, 0.95354704,\n",
       "        0.93838595, 0.9334938 , 0.92340111, 0.94019288, 0.91092842,\n",
       "        0.92459106, 0.92044813, 0.94164732, 0.96465343, 0.94292539,\n",
       "        0.93988439, 0.93477188, 0.95738138, 0.95350292, 0.96822339,\n",
       "        0.96460942, 0.95438439, 0.94896349, 0.94468831, 0.94548165,\n",
       "        0.96676896, 0.97337992, 0.96813527, 0.98946658, 0.97752274]])"
      ]
     },
     "execution_count": 41,
     "metadata": {},
     "output_type": "execute_result"
    }
   ],
   "source": [
    "x_input"
   ]
  },
  {
   "cell_type": "code",
   "execution_count": 42,
   "id": "3edef4e8",
   "metadata": {},
   "outputs": [],
   "source": [
    "temp_input=list(x_input)\n",
    "temp_input=temp_input[0].tolist()"
   ]
  },
  {
   "cell_type": "code",
   "execution_count": 46,
   "id": "5b12cf56",
   "metadata": {},
   "outputs": [
    {
     "data": {
      "text/plain": [
       "[0.8955469077744157,\n",
       " 0.8740392342457002,\n",
       " 0.8835149415855846,\n",
       " 0.8863796903162474,\n",
       " 0.872981470108201,\n",
       " 0.8717033944838464,\n",
       " 0.8619632057594981,\n",
       " 0.8478157650957874,\n",
       " 0.8400148554569533,\n",
       " 0.8546470889919832,\n",
       " 0.8817079569924211,\n",
       " 0.869764169198451,\n",
       " 0.8632853974813425,\n",
       " 0.854426723705009,\n",
       " 0.8642550370240996,\n",
       " 0.8694556255166161,\n",
       " 0.8875696951459785,\n",
       " 0.8977064983467852,\n",
       " 0.8984116565050785,\n",
       " 0.8985879594946814,\n",
       " 0.9050225613141812,\n",
       " 0.9016289574148284,\n",
       " 0.9157323357811681,\n",
       " 0.9025104185627246,\n",
       " 0.8743036618300454,\n",
       " 0.8693234386245029,\n",
       " 0.8720559466629336,\n",
       " 0.8776091411346563,\n",
       " 0.8784465399851813,\n",
       " 0.8867763585928244,\n",
       " 0.8979268636337592,\n",
       " 0.9323038484017122,\n",
       " 0.9447324290670015,\n",
       " 0.9715288694830945,\n",
       " 0.9899954374914254,\n",
       " 0.996033424834467,\n",
       " 0.9855000071572021,\n",
       " 0.9831641135952296,\n",
       " 0.9949315983995967,\n",
       " 0.9819741625656172,\n",
       " 0.9947553492101125,\n",
       " 0.9805197301515408,\n",
       " 0.9854558910597122,\n",
       " 0.9853677664649702,\n",
       " 0.977434616133904,\n",
       " 0.9852796418702281,\n",
       " 0.9764650303912658,\n",
       " 0.9633753538650544,\n",
       " 0.9571170012350386,\n",
       " 0.9623616520249261,\n",
       " 0.9730273103944229,\n",
       " 0.9743495021162673,\n",
       " 0.9694574573055859,\n",
       " 0.965402649945073,\n",
       " 0.9614801908770298,\n",
       " 0.9661959864982271,\n",
       " 0.9880562660061487,\n",
       " 1.0,\n",
       " 0.9868221988790464,\n",
       " 0.9820182786631071,\n",
       " 0.973600281660603,\n",
       " 0.9901276781836573,\n",
       " 0.9853677664649702,\n",
       " 0.9846185460093059,\n",
       " 0.9842659400300998,\n",
       " 0.9518282343476613,\n",
       " 0.9652264007555889,\n",
       " 0.9820182786631071,\n",
       " 0.957954346285445,\n",
       " 0.931422387253816,\n",
       " 0.9165256723343221,\n",
       " 0.9332734341443506,\n",
       " 0.926970965416845,\n",
       " 0.939002931605676,\n",
       " 0.9535470405459638,\n",
       " 0.9383859518422438,\n",
       " 0.9334937994313246,\n",
       " 0.9234011123280079,\n",
       " 0.9401928826352884,\n",
       " 0.9109284155652287,\n",
       " 0.9245910633576202,\n",
       " 0.9204481314023653,\n",
       " 0.9416473150493647,\n",
       " 0.9646534294894088,\n",
       " 0.9429253906737192,\n",
       " 0.9398843927535723,\n",
       " 0.934771875055679,\n",
       " 0.9573813750192649,\n",
       " 0.9535029244484738,\n",
       " 0.9682233901784836,\n",
       " 0.9646094209921566,\n",
       " 0.9543843855963701,\n",
       " 0.9489634856169985,\n",
       " 0.9446883129695116,\n",
       " 0.9454816495226658,\n",
       " 0.9667689577644073,\n",
       " 0.973379916373629,\n",
       " 0.9681352655837415,\n",
       " 0.9894665823227351,\n",
       " 0.9775227407286461]"
      ]
     },
     "execution_count": 46,
     "metadata": {},
     "output_type": "execute_result"
    }
   ],
   "source": [
    "temp_input # 100 data"
   ]
  },
  {
   "cell_type": "code",
   "execution_count": 47,
   "id": "2effe11b",
   "metadata": {},
   "outputs": [
    {
     "name": "stdout",
     "output_type": "stream",
     "text": [
      "[0.9360896]\n",
      "101\n",
      "1 day input [0.87403923 0.88351494 0.88637969 0.87298147 0.87170339 0.86196321\n",
      " 0.84781577 0.84001486 0.85464709 0.88170796 0.86976417 0.8632854\n",
      " 0.85442672 0.86425504 0.86945563 0.8875697  0.8977065  0.89841166\n",
      " 0.89858796 0.90502256 0.90162896 0.91573234 0.90251042 0.87430366\n",
      " 0.86932344 0.87205595 0.87760914 0.87844654 0.88677636 0.89792686\n",
      " 0.93230385 0.94473243 0.97152887 0.98999544 0.99603342 0.98550001\n",
      " 0.98316411 0.9949316  0.98197416 0.99475535 0.98051973 0.98545589\n",
      " 0.98536777 0.97743462 0.98527964 0.97646503 0.96337535 0.957117\n",
      " 0.96236165 0.97302731 0.9743495  0.96945746 0.96540265 0.96148019\n",
      " 0.96619599 0.98805627 1.         0.9868222  0.98201828 0.97360028\n",
      " 0.99012768 0.98536777 0.98461855 0.98426594 0.95182823 0.9652264\n",
      " 0.98201828 0.95795435 0.93142239 0.91652567 0.93327343 0.92697097\n",
      " 0.93900293 0.95354704 0.93838595 0.9334938  0.92340111 0.94019288\n",
      " 0.91092842 0.92459106 0.92044813 0.94164732 0.96465343 0.94292539\n",
      " 0.93988439 0.93477188 0.95738138 0.95350292 0.96822339 0.96460942\n",
      " 0.95438439 0.94896349 0.94468831 0.94548165 0.96676896 0.97337992\n",
      " 0.96813527 0.98946658 0.97752274 0.93608958]\n",
      "1 day output [[0.89760834]]\n",
      "2 day input [0.88351494 0.88637969 0.87298147 0.87170339 0.86196321 0.84781577\n",
      " 0.84001486 0.85464709 0.88170796 0.86976417 0.8632854  0.85442672\n",
      " 0.86425504 0.86945563 0.8875697  0.8977065  0.89841166 0.89858796\n",
      " 0.90502256 0.90162896 0.91573234 0.90251042 0.87430366 0.86932344\n",
      " 0.87205595 0.87760914 0.87844654 0.88677636 0.89792686 0.93230385\n",
      " 0.94473243 0.97152887 0.98999544 0.99603342 0.98550001 0.98316411\n",
      " 0.9949316  0.98197416 0.99475535 0.98051973 0.98545589 0.98536777\n",
      " 0.97743462 0.98527964 0.97646503 0.96337535 0.957117   0.96236165\n",
      " 0.97302731 0.9743495  0.96945746 0.96540265 0.96148019 0.96619599\n",
      " 0.98805627 1.         0.9868222  0.98201828 0.97360028 0.99012768\n",
      " 0.98536777 0.98461855 0.98426594 0.95182823 0.9652264  0.98201828\n",
      " 0.95795435 0.93142239 0.91652567 0.93327343 0.92697097 0.93900293\n",
      " 0.95354704 0.93838595 0.9334938  0.92340111 0.94019288 0.91092842\n",
      " 0.92459106 0.92044813 0.94164732 0.96465343 0.94292539 0.93988439\n",
      " 0.93477188 0.95738138 0.95350292 0.96822339 0.96460942 0.95438439\n",
      " 0.94896349 0.94468831 0.94548165 0.96676896 0.97337992 0.96813527\n",
      " 0.98946658 0.97752274 0.93608958 0.89760834]\n",
      "2 day output [[0.8693004]]\n",
      "3 day input [0.88637969 0.87298147 0.87170339 0.86196321 0.84781577 0.84001486\n",
      " 0.85464709 0.88170796 0.86976417 0.8632854  0.85442672 0.86425504\n",
      " 0.86945563 0.8875697  0.8977065  0.89841166 0.89858796 0.90502256\n",
      " 0.90162896 0.91573234 0.90251042 0.87430366 0.86932344 0.87205595\n",
      " 0.87760914 0.87844654 0.88677636 0.89792686 0.93230385 0.94473243\n",
      " 0.97152887 0.98999544 0.99603342 0.98550001 0.98316411 0.9949316\n",
      " 0.98197416 0.99475535 0.98051973 0.98545589 0.98536777 0.97743462\n",
      " 0.98527964 0.97646503 0.96337535 0.957117   0.96236165 0.97302731\n",
      " 0.9743495  0.96945746 0.96540265 0.96148019 0.96619599 0.98805627\n",
      " 1.         0.9868222  0.98201828 0.97360028 0.99012768 0.98536777\n",
      " 0.98461855 0.98426594 0.95182823 0.9652264  0.98201828 0.95795435\n",
      " 0.93142239 0.91652567 0.93327343 0.92697097 0.93900293 0.95354704\n",
      " 0.93838595 0.9334938  0.92340111 0.94019288 0.91092842 0.92459106\n",
      " 0.92044813 0.94164732 0.96465343 0.94292539 0.93988439 0.93477188\n",
      " 0.95738138 0.95350292 0.96822339 0.96460942 0.95438439 0.94896349\n",
      " 0.94468831 0.94548165 0.96676896 0.97337992 0.96813527 0.98946658\n",
      " 0.97752274 0.93608958 0.89760834 0.86930043]\n",
      "3 day output [[0.850336]]\n",
      "4 day input [0.87298147 0.87170339 0.86196321 0.84781577 0.84001486 0.85464709\n",
      " 0.88170796 0.86976417 0.8632854  0.85442672 0.86425504 0.86945563\n",
      " 0.8875697  0.8977065  0.89841166 0.89858796 0.90502256 0.90162896\n",
      " 0.91573234 0.90251042 0.87430366 0.86932344 0.87205595 0.87760914\n",
      " 0.87844654 0.88677636 0.89792686 0.93230385 0.94473243 0.97152887\n",
      " 0.98999544 0.99603342 0.98550001 0.98316411 0.9949316  0.98197416\n",
      " 0.99475535 0.98051973 0.98545589 0.98536777 0.97743462 0.98527964\n",
      " 0.97646503 0.96337535 0.957117   0.96236165 0.97302731 0.9743495\n",
      " 0.96945746 0.96540265 0.96148019 0.96619599 0.98805627 1.\n",
      " 0.9868222  0.98201828 0.97360028 0.99012768 0.98536777 0.98461855\n",
      " 0.98426594 0.95182823 0.9652264  0.98201828 0.95795435 0.93142239\n",
      " 0.91652567 0.93327343 0.92697097 0.93900293 0.95354704 0.93838595\n",
      " 0.9334938  0.92340111 0.94019288 0.91092842 0.92459106 0.92044813\n",
      " 0.94164732 0.96465343 0.94292539 0.93988439 0.93477188 0.95738138\n",
      " 0.95350292 0.96822339 0.96460942 0.95438439 0.94896349 0.94468831\n",
      " 0.94548165 0.96676896 0.97337992 0.96813527 0.98946658 0.97752274\n",
      " 0.93608958 0.89760834 0.86930043 0.85033602]\n",
      "4 day output [[0.83716977]]\n",
      "5 day input [0.87170339 0.86196321 0.84781577 0.84001486 0.85464709 0.88170796\n",
      " 0.86976417 0.8632854  0.85442672 0.86425504 0.86945563 0.8875697\n",
      " 0.8977065  0.89841166 0.89858796 0.90502256 0.90162896 0.91573234\n",
      " 0.90251042 0.87430366 0.86932344 0.87205595 0.87760914 0.87844654\n",
      " 0.88677636 0.89792686 0.93230385 0.94473243 0.97152887 0.98999544\n",
      " 0.99603342 0.98550001 0.98316411 0.9949316  0.98197416 0.99475535\n",
      " 0.98051973 0.98545589 0.98536777 0.97743462 0.98527964 0.97646503\n",
      " 0.96337535 0.957117   0.96236165 0.97302731 0.9743495  0.96945746\n",
      " 0.96540265 0.96148019 0.96619599 0.98805627 1.         0.9868222\n",
      " 0.98201828 0.97360028 0.99012768 0.98536777 0.98461855 0.98426594\n",
      " 0.95182823 0.9652264  0.98201828 0.95795435 0.93142239 0.91652567\n",
      " 0.93327343 0.92697097 0.93900293 0.95354704 0.93838595 0.9334938\n",
      " 0.92340111 0.94019288 0.91092842 0.92459106 0.92044813 0.94164732\n",
      " 0.96465343 0.94292539 0.93988439 0.93477188 0.95738138 0.95350292\n",
      " 0.96822339 0.96460942 0.95438439 0.94896349 0.94468831 0.94548165\n",
      " 0.96676896 0.97337992 0.96813527 0.98946658 0.97752274 0.93608958\n",
      " 0.89760834 0.86930043 0.85033602 0.83716977]\n",
      "5 day output [[0.82647914]]\n",
      "6 day input [0.86196321 0.84781577 0.84001486 0.85464709 0.88170796 0.86976417\n",
      " 0.8632854  0.85442672 0.86425504 0.86945563 0.8875697  0.8977065\n",
      " 0.89841166 0.89858796 0.90502256 0.90162896 0.91573234 0.90251042\n",
      " 0.87430366 0.86932344 0.87205595 0.87760914 0.87844654 0.88677636\n",
      " 0.89792686 0.93230385 0.94473243 0.97152887 0.98999544 0.99603342\n",
      " 0.98550001 0.98316411 0.9949316  0.98197416 0.99475535 0.98051973\n",
      " 0.98545589 0.98536777 0.97743462 0.98527964 0.97646503 0.96337535\n",
      " 0.957117   0.96236165 0.97302731 0.9743495  0.96945746 0.96540265\n",
      " 0.96148019 0.96619599 0.98805627 1.         0.9868222  0.98201828\n",
      " 0.97360028 0.99012768 0.98536777 0.98461855 0.98426594 0.95182823\n",
      " 0.9652264  0.98201828 0.95795435 0.93142239 0.91652567 0.93327343\n",
      " 0.92697097 0.93900293 0.95354704 0.93838595 0.9334938  0.92340111\n",
      " 0.94019288 0.91092842 0.92459106 0.92044813 0.94164732 0.96465343\n",
      " 0.94292539 0.93988439 0.93477188 0.95738138 0.95350292 0.96822339\n",
      " 0.96460942 0.95438439 0.94896349 0.94468831 0.94548165 0.96676896\n",
      " 0.97337992 0.96813527 0.98946658 0.97752274 0.93608958 0.89760834\n",
      " 0.86930043 0.85033602 0.83716977 0.82647914]\n",
      "6 day output [[0.8163239]]\n",
      "7 day input [0.84781577 0.84001486 0.85464709 0.88170796 0.86976417 0.8632854\n",
      " 0.85442672 0.86425504 0.86945563 0.8875697  0.8977065  0.89841166\n",
      " 0.89858796 0.90502256 0.90162896 0.91573234 0.90251042 0.87430366\n",
      " 0.86932344 0.87205595 0.87760914 0.87844654 0.88677636 0.89792686\n",
      " 0.93230385 0.94473243 0.97152887 0.98999544 0.99603342 0.98550001\n",
      " 0.98316411 0.9949316  0.98197416 0.99475535 0.98051973 0.98545589\n",
      " 0.98536777 0.97743462 0.98527964 0.97646503 0.96337535 0.957117\n",
      " 0.96236165 0.97302731 0.9743495  0.96945746 0.96540265 0.96148019\n",
      " 0.96619599 0.98805627 1.         0.9868222  0.98201828 0.97360028\n",
      " 0.99012768 0.98536777 0.98461855 0.98426594 0.95182823 0.9652264\n",
      " 0.98201828 0.95795435 0.93142239 0.91652567 0.93327343 0.92697097\n",
      " 0.93900293 0.95354704 0.93838595 0.9334938  0.92340111 0.94019288\n",
      " 0.91092842 0.92459106 0.92044813 0.94164732 0.96465343 0.94292539\n",
      " 0.93988439 0.93477188 0.95738138 0.95350292 0.96822339 0.96460942\n",
      " 0.95438439 0.94896349 0.94468831 0.94548165 0.96676896 0.97337992\n",
      " 0.96813527 0.98946658 0.97752274 0.93608958 0.89760834 0.86930043\n",
      " 0.85033602 0.83716977 0.82647914 0.81632388]\n",
      "7 day output [[0.8060597]]\n",
      "8 day input [0.84001486 0.85464709 0.88170796 0.86976417 0.8632854  0.85442672\n",
      " 0.86425504 0.86945563 0.8875697  0.8977065  0.89841166 0.89858796\n",
      " 0.90502256 0.90162896 0.91573234 0.90251042 0.87430366 0.86932344\n",
      " 0.87205595 0.87760914 0.87844654 0.88677636 0.89792686 0.93230385\n",
      " 0.94473243 0.97152887 0.98999544 0.99603342 0.98550001 0.98316411\n",
      " 0.9949316  0.98197416 0.99475535 0.98051973 0.98545589 0.98536777\n",
      " 0.97743462 0.98527964 0.97646503 0.96337535 0.957117   0.96236165\n",
      " 0.97302731 0.9743495  0.96945746 0.96540265 0.96148019 0.96619599\n",
      " 0.98805627 1.         0.9868222  0.98201828 0.97360028 0.99012768\n",
      " 0.98536777 0.98461855 0.98426594 0.95182823 0.9652264  0.98201828\n",
      " 0.95795435 0.93142239 0.91652567 0.93327343 0.92697097 0.93900293\n",
      " 0.95354704 0.93838595 0.9334938  0.92340111 0.94019288 0.91092842\n",
      " 0.92459106 0.92044813 0.94164732 0.96465343 0.94292539 0.93988439\n",
      " 0.93477188 0.95738138 0.95350292 0.96822339 0.96460942 0.95438439\n",
      " 0.94896349 0.94468831 0.94548165 0.96676896 0.97337992 0.96813527\n",
      " 0.98946658 0.97752274 0.93608958 0.89760834 0.86930043 0.85033602\n",
      " 0.83716977 0.82647914 0.81632388 0.80605972]\n",
      "8 day output [[0.7957944]]\n",
      "9 day input [0.85464709 0.88170796 0.86976417 0.8632854  0.85442672 0.86425504\n",
      " 0.86945563 0.8875697  0.8977065  0.89841166 0.89858796 0.90502256\n",
      " 0.90162896 0.91573234 0.90251042 0.87430366 0.86932344 0.87205595\n",
      " 0.87760914 0.87844654 0.88677636 0.89792686 0.93230385 0.94473243\n",
      " 0.97152887 0.98999544 0.99603342 0.98550001 0.98316411 0.9949316\n",
      " 0.98197416 0.99475535 0.98051973 0.98545589 0.98536777 0.97743462\n",
      " 0.98527964 0.97646503 0.96337535 0.957117   0.96236165 0.97302731\n",
      " 0.9743495  0.96945746 0.96540265 0.96148019 0.96619599 0.98805627\n",
      " 1.         0.9868222  0.98201828 0.97360028 0.99012768 0.98536777\n",
      " 0.98461855 0.98426594 0.95182823 0.9652264  0.98201828 0.95795435\n",
      " 0.93142239 0.91652567 0.93327343 0.92697097 0.93900293 0.95354704\n",
      " 0.93838595 0.9334938  0.92340111 0.94019288 0.91092842 0.92459106\n",
      " 0.92044813 0.94164732 0.96465343 0.94292539 0.93988439 0.93477188\n",
      " 0.95738138 0.95350292 0.96822339 0.96460942 0.95438439 0.94896349\n",
      " 0.94468831 0.94548165 0.96676896 0.97337992 0.96813527 0.98946658\n",
      " 0.97752274 0.93608958 0.89760834 0.86930043 0.85033602 0.83716977\n",
      " 0.82647914 0.81632388 0.80605972 0.79579443]\n"
     ]
    },
    {
     "name": "stdout",
     "output_type": "stream",
     "text": [
      "9 day output [[0.7858703]]\n",
      "10 day input [0.88170796 0.86976417 0.8632854  0.85442672 0.86425504 0.86945563\n",
      " 0.8875697  0.8977065  0.89841166 0.89858796 0.90502256 0.90162896\n",
      " 0.91573234 0.90251042 0.87430366 0.86932344 0.87205595 0.87760914\n",
      " 0.87844654 0.88677636 0.89792686 0.93230385 0.94473243 0.97152887\n",
      " 0.98999544 0.99603342 0.98550001 0.98316411 0.9949316  0.98197416\n",
      " 0.99475535 0.98051973 0.98545589 0.98536777 0.97743462 0.98527964\n",
      " 0.97646503 0.96337535 0.957117   0.96236165 0.97302731 0.9743495\n",
      " 0.96945746 0.96540265 0.96148019 0.96619599 0.98805627 1.\n",
      " 0.9868222  0.98201828 0.97360028 0.99012768 0.98536777 0.98461855\n",
      " 0.98426594 0.95182823 0.9652264  0.98201828 0.95795435 0.93142239\n",
      " 0.91652567 0.93327343 0.92697097 0.93900293 0.95354704 0.93838595\n",
      " 0.9334938  0.92340111 0.94019288 0.91092842 0.92459106 0.92044813\n",
      " 0.94164732 0.96465343 0.94292539 0.93988439 0.93477188 0.95738138\n",
      " 0.95350292 0.96822339 0.96460942 0.95438439 0.94896349 0.94468831\n",
      " 0.94548165 0.96676896 0.97337992 0.96813527 0.98946658 0.97752274\n",
      " 0.93608958 0.89760834 0.86930043 0.85033602 0.83716977 0.82647914\n",
      " 0.81632388 0.80605972 0.79579443 0.78587031]\n",
      "10 day output [[0.7765587]]\n",
      "11 day input [0.86976417 0.8632854  0.85442672 0.86425504 0.86945563 0.8875697\n",
      " 0.8977065  0.89841166 0.89858796 0.90502256 0.90162896 0.91573234\n",
      " 0.90251042 0.87430366 0.86932344 0.87205595 0.87760914 0.87844654\n",
      " 0.88677636 0.89792686 0.93230385 0.94473243 0.97152887 0.98999544\n",
      " 0.99603342 0.98550001 0.98316411 0.9949316  0.98197416 0.99475535\n",
      " 0.98051973 0.98545589 0.98536777 0.97743462 0.98527964 0.97646503\n",
      " 0.96337535 0.957117   0.96236165 0.97302731 0.9743495  0.96945746\n",
      " 0.96540265 0.96148019 0.96619599 0.98805627 1.         0.9868222\n",
      " 0.98201828 0.97360028 0.99012768 0.98536777 0.98461855 0.98426594\n",
      " 0.95182823 0.9652264  0.98201828 0.95795435 0.93142239 0.91652567\n",
      " 0.93327343 0.92697097 0.93900293 0.95354704 0.93838595 0.9334938\n",
      " 0.92340111 0.94019288 0.91092842 0.92459106 0.92044813 0.94164732\n",
      " 0.96465343 0.94292539 0.93988439 0.93477188 0.95738138 0.95350292\n",
      " 0.96822339 0.96460942 0.95438439 0.94896349 0.94468831 0.94548165\n",
      " 0.96676896 0.97337992 0.96813527 0.98946658 0.97752274 0.93608958\n",
      " 0.89760834 0.86930043 0.85033602 0.83716977 0.82647914 0.81632388\n",
      " 0.80605972 0.79579443 0.78587031 0.7765587 ]\n",
      "11 day output [[0.7679595]]\n",
      "12 day input [0.8632854  0.85442672 0.86425504 0.86945563 0.8875697  0.8977065\n",
      " 0.89841166 0.89858796 0.90502256 0.90162896 0.91573234 0.90251042\n",
      " 0.87430366 0.86932344 0.87205595 0.87760914 0.87844654 0.88677636\n",
      " 0.89792686 0.93230385 0.94473243 0.97152887 0.98999544 0.99603342\n",
      " 0.98550001 0.98316411 0.9949316  0.98197416 0.99475535 0.98051973\n",
      " 0.98545589 0.98536777 0.97743462 0.98527964 0.97646503 0.96337535\n",
      " 0.957117   0.96236165 0.97302731 0.9743495  0.96945746 0.96540265\n",
      " 0.96148019 0.96619599 0.98805627 1.         0.9868222  0.98201828\n",
      " 0.97360028 0.99012768 0.98536777 0.98461855 0.98426594 0.95182823\n",
      " 0.9652264  0.98201828 0.95795435 0.93142239 0.91652567 0.93327343\n",
      " 0.92697097 0.93900293 0.95354704 0.93838595 0.9334938  0.92340111\n",
      " 0.94019288 0.91092842 0.92459106 0.92044813 0.94164732 0.96465343\n",
      " 0.94292539 0.93988439 0.93477188 0.95738138 0.95350292 0.96822339\n",
      " 0.96460942 0.95438439 0.94896349 0.94468831 0.94548165 0.96676896\n",
      " 0.97337992 0.96813527 0.98946658 0.97752274 0.93608958 0.89760834\n",
      " 0.86930043 0.85033602 0.83716977 0.82647914 0.81632388 0.80605972\n",
      " 0.79579443 0.78587031 0.7765587  0.76795948]\n",
      "12 day output [[0.76002556]]\n",
      "13 day input [0.85442672 0.86425504 0.86945563 0.8875697  0.8977065  0.89841166\n",
      " 0.89858796 0.90502256 0.90162896 0.91573234 0.90251042 0.87430366\n",
      " 0.86932344 0.87205595 0.87760914 0.87844654 0.88677636 0.89792686\n",
      " 0.93230385 0.94473243 0.97152887 0.98999544 0.99603342 0.98550001\n",
      " 0.98316411 0.9949316  0.98197416 0.99475535 0.98051973 0.98545589\n",
      " 0.98536777 0.97743462 0.98527964 0.97646503 0.96337535 0.957117\n",
      " 0.96236165 0.97302731 0.9743495  0.96945746 0.96540265 0.96148019\n",
      " 0.96619599 0.98805627 1.         0.9868222  0.98201828 0.97360028\n",
      " 0.99012768 0.98536777 0.98461855 0.98426594 0.95182823 0.9652264\n",
      " 0.98201828 0.95795435 0.93142239 0.91652567 0.93327343 0.92697097\n",
      " 0.93900293 0.95354704 0.93838595 0.9334938  0.92340111 0.94019288\n",
      " 0.91092842 0.92459106 0.92044813 0.94164732 0.96465343 0.94292539\n",
      " 0.93988439 0.93477188 0.95738138 0.95350292 0.96822339 0.96460942\n",
      " 0.95438439 0.94896349 0.94468831 0.94548165 0.96676896 0.97337992\n",
      " 0.96813527 0.98946658 0.97752274 0.93608958 0.89760834 0.86930043\n",
      " 0.85033602 0.83716977 0.82647914 0.81632388 0.80605972 0.79579443\n",
      " 0.78587031 0.7765587  0.76795948 0.76002556]\n",
      "13 day output [[0.7526342]]\n",
      "14 day input [0.86425504 0.86945563 0.8875697  0.8977065  0.89841166 0.89858796\n",
      " 0.90502256 0.90162896 0.91573234 0.90251042 0.87430366 0.86932344\n",
      " 0.87205595 0.87760914 0.87844654 0.88677636 0.89792686 0.93230385\n",
      " 0.94473243 0.97152887 0.98999544 0.99603342 0.98550001 0.98316411\n",
      " 0.9949316  0.98197416 0.99475535 0.98051973 0.98545589 0.98536777\n",
      " 0.97743462 0.98527964 0.97646503 0.96337535 0.957117   0.96236165\n",
      " 0.97302731 0.9743495  0.96945746 0.96540265 0.96148019 0.96619599\n",
      " 0.98805627 1.         0.9868222  0.98201828 0.97360028 0.99012768\n",
      " 0.98536777 0.98461855 0.98426594 0.95182823 0.9652264  0.98201828\n",
      " 0.95795435 0.93142239 0.91652567 0.93327343 0.92697097 0.93900293\n",
      " 0.95354704 0.93838595 0.9334938  0.92340111 0.94019288 0.91092842\n",
      " 0.92459106 0.92044813 0.94164732 0.96465343 0.94292539 0.93988439\n",
      " 0.93477188 0.95738138 0.95350292 0.96822339 0.96460942 0.95438439\n",
      " 0.94896349 0.94468831 0.94548165 0.96676896 0.97337992 0.96813527\n",
      " 0.98946658 0.97752274 0.93608958 0.89760834 0.86930043 0.85033602\n",
      " 0.83716977 0.82647914 0.81632388 0.80605972 0.79579443 0.78587031\n",
      " 0.7765587  0.76795948 0.76002556 0.75263423]\n",
      "14 day output [[0.7456513]]\n",
      "15 day input [0.86945563 0.8875697  0.8977065  0.89841166 0.89858796 0.90502256\n",
      " 0.90162896 0.91573234 0.90251042 0.87430366 0.86932344 0.87205595\n",
      " 0.87760914 0.87844654 0.88677636 0.89792686 0.93230385 0.94473243\n",
      " 0.97152887 0.98999544 0.99603342 0.98550001 0.98316411 0.9949316\n",
      " 0.98197416 0.99475535 0.98051973 0.98545589 0.98536777 0.97743462\n",
      " 0.98527964 0.97646503 0.96337535 0.957117   0.96236165 0.97302731\n",
      " 0.9743495  0.96945746 0.96540265 0.96148019 0.96619599 0.98805627\n",
      " 1.         0.9868222  0.98201828 0.97360028 0.99012768 0.98536777\n",
      " 0.98461855 0.98426594 0.95182823 0.9652264  0.98201828 0.95795435\n",
      " 0.93142239 0.91652567 0.93327343 0.92697097 0.93900293 0.95354704\n",
      " 0.93838595 0.9334938  0.92340111 0.94019288 0.91092842 0.92459106\n",
      " 0.92044813 0.94164732 0.96465343 0.94292539 0.93988439 0.93477188\n",
      " 0.95738138 0.95350292 0.96822339 0.96460942 0.95438439 0.94896349\n",
      " 0.94468831 0.94548165 0.96676896 0.97337992 0.96813527 0.98946658\n",
      " 0.97752274 0.93608958 0.89760834 0.86930043 0.85033602 0.83716977\n",
      " 0.82647914 0.81632388 0.80605972 0.79579443 0.78587031 0.7765587\n",
      " 0.76795948 0.76002556 0.75263423 0.7456513 ]\n",
      "15 day output [[0.7389679]]\n",
      "16 day input [0.8875697  0.8977065  0.89841166 0.89858796 0.90502256 0.90162896\n",
      " 0.91573234 0.90251042 0.87430366 0.86932344 0.87205595 0.87760914\n",
      " 0.87844654 0.88677636 0.89792686 0.93230385 0.94473243 0.97152887\n",
      " 0.98999544 0.99603342 0.98550001 0.98316411 0.9949316  0.98197416\n",
      " 0.99475535 0.98051973 0.98545589 0.98536777 0.97743462 0.98527964\n",
      " 0.97646503 0.96337535 0.957117   0.96236165 0.97302731 0.9743495\n",
      " 0.96945746 0.96540265 0.96148019 0.96619599 0.98805627 1.\n",
      " 0.9868222  0.98201828 0.97360028 0.99012768 0.98536777 0.98461855\n",
      " 0.98426594 0.95182823 0.9652264  0.98201828 0.95795435 0.93142239\n",
      " 0.91652567 0.93327343 0.92697097 0.93900293 0.95354704 0.93838595\n",
      " 0.9334938  0.92340111 0.94019288 0.91092842 0.92459106 0.92044813\n",
      " 0.94164732 0.96465343 0.94292539 0.93988439 0.93477188 0.95738138\n",
      " 0.95350292 0.96822339 0.96460942 0.95438439 0.94896349 0.94468831\n",
      " 0.94548165 0.96676896 0.97337992 0.96813527 0.98946658 0.97752274\n",
      " 0.93608958 0.89760834 0.86930043 0.85033602 0.83716977 0.82647914\n",
      " 0.81632388 0.80605972 0.79579443 0.78587031 0.7765587  0.76795948\n",
      " 0.76002556 0.75263423 0.7456513  0.7389679 ]\n",
      "16 day output [[0.73250973]]\n",
      "17 day input [0.8977065  0.89841166 0.89858796 0.90502256 0.90162896 0.91573234\n",
      " 0.90251042 0.87430366 0.86932344 0.87205595 0.87760914 0.87844654\n",
      " 0.88677636 0.89792686 0.93230385 0.94473243 0.97152887 0.98999544\n",
      " 0.99603342 0.98550001 0.98316411 0.9949316  0.98197416 0.99475535\n",
      " 0.98051973 0.98545589 0.98536777 0.97743462 0.98527964 0.97646503\n",
      " 0.96337535 0.957117   0.96236165 0.97302731 0.9743495  0.96945746\n",
      " 0.96540265 0.96148019 0.96619599 0.98805627 1.         0.9868222\n",
      " 0.98201828 0.97360028 0.99012768 0.98536777 0.98461855 0.98426594\n",
      " 0.95182823 0.9652264  0.98201828 0.95795435 0.93142239 0.91652567\n",
      " 0.93327343 0.92697097 0.93900293 0.95354704 0.93838595 0.9334938\n",
      " 0.92340111 0.94019288 0.91092842 0.92459106 0.92044813 0.94164732\n",
      " 0.96465343 0.94292539 0.93988439 0.93477188 0.95738138 0.95350292\n",
      " 0.96822339 0.96460942 0.95438439 0.94896349 0.94468831 0.94548165\n",
      " 0.96676896 0.97337992 0.96813527 0.98946658 0.97752274 0.93608958\n",
      " 0.89760834 0.86930043 0.85033602 0.83716977 0.82647914 0.81632388\n",
      " 0.80605972 0.79579443 0.78587031 0.7765587  0.76795948 0.76002556\n",
      " 0.75263423 0.7456513  0.7389679  0.73250973]\n",
      "17 day output [[0.72623545]]\n",
      "18 day input [0.89841166 0.89858796 0.90502256 0.90162896 0.91573234 0.90251042\n",
      " 0.87430366 0.86932344 0.87205595 0.87760914 0.87844654 0.88677636\n",
      " 0.89792686 0.93230385 0.94473243 0.97152887 0.98999544 0.99603342\n",
      " 0.98550001 0.98316411 0.9949316  0.98197416 0.99475535 0.98051973\n",
      " 0.98545589 0.98536777 0.97743462 0.98527964 0.97646503 0.96337535\n",
      " 0.957117   0.96236165 0.97302731 0.9743495  0.96945746 0.96540265\n",
      " 0.96148019 0.96619599 0.98805627 1.         0.9868222  0.98201828\n",
      " 0.97360028 0.99012768 0.98536777 0.98461855 0.98426594 0.95182823\n",
      " 0.9652264  0.98201828 0.95795435 0.93142239 0.91652567 0.93327343\n",
      " 0.92697097 0.93900293 0.95354704 0.93838595 0.9334938  0.92340111\n",
      " 0.94019288 0.91092842 0.92459106 0.92044813 0.94164732 0.96465343\n",
      " 0.94292539 0.93988439 0.93477188 0.95738138 0.95350292 0.96822339\n",
      " 0.96460942 0.95438439 0.94896349 0.94468831 0.94548165 0.96676896\n",
      " 0.97337992 0.96813527 0.98946658 0.97752274 0.93608958 0.89760834\n",
      " 0.86930043 0.85033602 0.83716977 0.82647914 0.81632388 0.80605972\n",
      " 0.79579443 0.78587031 0.7765587  0.76795948 0.76002556 0.75263423\n",
      " 0.7456513  0.7389679  0.73250973 0.72623545]\n"
     ]
    },
    {
     "name": "stdout",
     "output_type": "stream",
     "text": [
      "18 day output [[0.7201227]]\n",
      "19 day input [0.89858796 0.90502256 0.90162896 0.91573234 0.90251042 0.87430366\n",
      " 0.86932344 0.87205595 0.87760914 0.87844654 0.88677636 0.89792686\n",
      " 0.93230385 0.94473243 0.97152887 0.98999544 0.99603342 0.98550001\n",
      " 0.98316411 0.9949316  0.98197416 0.99475535 0.98051973 0.98545589\n",
      " 0.98536777 0.97743462 0.98527964 0.97646503 0.96337535 0.957117\n",
      " 0.96236165 0.97302731 0.9743495  0.96945746 0.96540265 0.96148019\n",
      " 0.96619599 0.98805627 1.         0.9868222  0.98201828 0.97360028\n",
      " 0.99012768 0.98536777 0.98461855 0.98426594 0.95182823 0.9652264\n",
      " 0.98201828 0.95795435 0.93142239 0.91652567 0.93327343 0.92697097\n",
      " 0.93900293 0.95354704 0.93838595 0.9334938  0.92340111 0.94019288\n",
      " 0.91092842 0.92459106 0.92044813 0.94164732 0.96465343 0.94292539\n",
      " 0.93988439 0.93477188 0.95738138 0.95350292 0.96822339 0.96460942\n",
      " 0.95438439 0.94896349 0.94468831 0.94548165 0.96676896 0.97337992\n",
      " 0.96813527 0.98946658 0.97752274 0.93608958 0.89760834 0.86930043\n",
      " 0.85033602 0.83716977 0.82647914 0.81632388 0.80605972 0.79579443\n",
      " 0.78587031 0.7765587  0.76795948 0.76002556 0.75263423 0.7456513\n",
      " 0.7389679  0.73250973 0.72623545 0.72012269]\n",
      "19 day output [[0.71416026]]\n",
      "20 day input [0.90502256 0.90162896 0.91573234 0.90251042 0.87430366 0.86932344\n",
      " 0.87205595 0.87760914 0.87844654 0.88677636 0.89792686 0.93230385\n",
      " 0.94473243 0.97152887 0.98999544 0.99603342 0.98550001 0.98316411\n",
      " 0.9949316  0.98197416 0.99475535 0.98051973 0.98545589 0.98536777\n",
      " 0.97743462 0.98527964 0.97646503 0.96337535 0.957117   0.96236165\n",
      " 0.97302731 0.9743495  0.96945746 0.96540265 0.96148019 0.96619599\n",
      " 0.98805627 1.         0.9868222  0.98201828 0.97360028 0.99012768\n",
      " 0.98536777 0.98461855 0.98426594 0.95182823 0.9652264  0.98201828\n",
      " 0.95795435 0.93142239 0.91652567 0.93327343 0.92697097 0.93900293\n",
      " 0.95354704 0.93838595 0.9334938  0.92340111 0.94019288 0.91092842\n",
      " 0.92459106 0.92044813 0.94164732 0.96465343 0.94292539 0.93988439\n",
      " 0.93477188 0.95738138 0.95350292 0.96822339 0.96460942 0.95438439\n",
      " 0.94896349 0.94468831 0.94548165 0.96676896 0.97337992 0.96813527\n",
      " 0.98946658 0.97752274 0.93608958 0.89760834 0.86930043 0.85033602\n",
      " 0.83716977 0.82647914 0.81632388 0.80605972 0.79579443 0.78587031\n",
      " 0.7765587  0.76795948 0.76002556 0.75263423 0.7456513  0.7389679\n",
      " 0.73250973 0.72623545 0.72012269 0.71416026]\n",
      "20 day output [[0.70834017]]\n",
      "21 day input [0.90162896 0.91573234 0.90251042 0.87430366 0.86932344 0.87205595\n",
      " 0.87760914 0.87844654 0.88677636 0.89792686 0.93230385 0.94473243\n",
      " 0.97152887 0.98999544 0.99603342 0.98550001 0.98316411 0.9949316\n",
      " 0.98197416 0.99475535 0.98051973 0.98545589 0.98536777 0.97743462\n",
      " 0.98527964 0.97646503 0.96337535 0.957117   0.96236165 0.97302731\n",
      " 0.9743495  0.96945746 0.96540265 0.96148019 0.96619599 0.98805627\n",
      " 1.         0.9868222  0.98201828 0.97360028 0.99012768 0.98536777\n",
      " 0.98461855 0.98426594 0.95182823 0.9652264  0.98201828 0.95795435\n",
      " 0.93142239 0.91652567 0.93327343 0.92697097 0.93900293 0.95354704\n",
      " 0.93838595 0.9334938  0.92340111 0.94019288 0.91092842 0.92459106\n",
      " 0.92044813 0.94164732 0.96465343 0.94292539 0.93988439 0.93477188\n",
      " 0.95738138 0.95350292 0.96822339 0.96460942 0.95438439 0.94896349\n",
      " 0.94468831 0.94548165 0.96676896 0.97337992 0.96813527 0.98946658\n",
      " 0.97752274 0.93608958 0.89760834 0.86930043 0.85033602 0.83716977\n",
      " 0.82647914 0.81632388 0.80605972 0.79579443 0.78587031 0.7765587\n",
      " 0.76795948 0.76002556 0.75263423 0.7456513  0.7389679  0.73250973\n",
      " 0.72623545 0.72012269 0.71416026 0.70834017]\n",
      "21 day output [[0.7026551]]\n",
      "22 day input [0.91573234 0.90251042 0.87430366 0.86932344 0.87205595 0.87760914\n",
      " 0.87844654 0.88677636 0.89792686 0.93230385 0.94473243 0.97152887\n",
      " 0.98999544 0.99603342 0.98550001 0.98316411 0.9949316  0.98197416\n",
      " 0.99475535 0.98051973 0.98545589 0.98536777 0.97743462 0.98527964\n",
      " 0.97646503 0.96337535 0.957117   0.96236165 0.97302731 0.9743495\n",
      " 0.96945746 0.96540265 0.96148019 0.96619599 0.98805627 1.\n",
      " 0.9868222  0.98201828 0.97360028 0.99012768 0.98536777 0.98461855\n",
      " 0.98426594 0.95182823 0.9652264  0.98201828 0.95795435 0.93142239\n",
      " 0.91652567 0.93327343 0.92697097 0.93900293 0.95354704 0.93838595\n",
      " 0.9334938  0.92340111 0.94019288 0.91092842 0.92459106 0.92044813\n",
      " 0.94164732 0.96465343 0.94292539 0.93988439 0.93477188 0.95738138\n",
      " 0.95350292 0.96822339 0.96460942 0.95438439 0.94896349 0.94468831\n",
      " 0.94548165 0.96676896 0.97337992 0.96813527 0.98946658 0.97752274\n",
      " 0.93608958 0.89760834 0.86930043 0.85033602 0.83716977 0.82647914\n",
      " 0.81632388 0.80605972 0.79579443 0.78587031 0.7765587  0.76795948\n",
      " 0.76002556 0.75263423 0.7456513  0.7389679  0.73250973 0.72623545\n",
      " 0.72012269 0.71416026 0.70834017 0.70265508]\n",
      "22 day output [[0.6970986]]\n",
      "23 day input [0.90251042 0.87430366 0.86932344 0.87205595 0.87760914 0.87844654\n",
      " 0.88677636 0.89792686 0.93230385 0.94473243 0.97152887 0.98999544\n",
      " 0.99603342 0.98550001 0.98316411 0.9949316  0.98197416 0.99475535\n",
      " 0.98051973 0.98545589 0.98536777 0.97743462 0.98527964 0.97646503\n",
      " 0.96337535 0.957117   0.96236165 0.97302731 0.9743495  0.96945746\n",
      " 0.96540265 0.96148019 0.96619599 0.98805627 1.         0.9868222\n",
      " 0.98201828 0.97360028 0.99012768 0.98536777 0.98461855 0.98426594\n",
      " 0.95182823 0.9652264  0.98201828 0.95795435 0.93142239 0.91652567\n",
      " 0.93327343 0.92697097 0.93900293 0.95354704 0.93838595 0.9334938\n",
      " 0.92340111 0.94019288 0.91092842 0.92459106 0.92044813 0.94164732\n",
      " 0.96465343 0.94292539 0.93988439 0.93477188 0.95738138 0.95350292\n",
      " 0.96822339 0.96460942 0.95438439 0.94896349 0.94468831 0.94548165\n",
      " 0.96676896 0.97337992 0.96813527 0.98946658 0.97752274 0.93608958\n",
      " 0.89760834 0.86930043 0.85033602 0.83716977 0.82647914 0.81632388\n",
      " 0.80605972 0.79579443 0.78587031 0.7765587  0.76795948 0.76002556\n",
      " 0.75263423 0.7456513  0.7389679  0.73250973 0.72623545 0.72012269\n",
      " 0.71416026 0.70834017 0.70265508 0.69709861]\n",
      "23 day output [[0.6916651]]\n",
      "24 day input [0.87430366 0.86932344 0.87205595 0.87760914 0.87844654 0.88677636\n",
      " 0.89792686 0.93230385 0.94473243 0.97152887 0.98999544 0.99603342\n",
      " 0.98550001 0.98316411 0.9949316  0.98197416 0.99475535 0.98051973\n",
      " 0.98545589 0.98536777 0.97743462 0.98527964 0.97646503 0.96337535\n",
      " 0.957117   0.96236165 0.97302731 0.9743495  0.96945746 0.96540265\n",
      " 0.96148019 0.96619599 0.98805627 1.         0.9868222  0.98201828\n",
      " 0.97360028 0.99012768 0.98536777 0.98461855 0.98426594 0.95182823\n",
      " 0.9652264  0.98201828 0.95795435 0.93142239 0.91652567 0.93327343\n",
      " 0.92697097 0.93900293 0.95354704 0.93838595 0.9334938  0.92340111\n",
      " 0.94019288 0.91092842 0.92459106 0.92044813 0.94164732 0.96465343\n",
      " 0.94292539 0.93988439 0.93477188 0.95738138 0.95350292 0.96822339\n",
      " 0.96460942 0.95438439 0.94896349 0.94468831 0.94548165 0.96676896\n",
      " 0.97337992 0.96813527 0.98946658 0.97752274 0.93608958 0.89760834\n",
      " 0.86930043 0.85033602 0.83716977 0.82647914 0.81632388 0.80605972\n",
      " 0.79579443 0.78587031 0.7765587  0.76795948 0.76002556 0.75263423\n",
      " 0.7456513  0.7389679  0.73250973 0.72623545 0.72012269 0.71416026\n",
      " 0.70834017 0.70265508 0.69709861 0.69166511]\n",
      "24 day output [[0.686349]]\n",
      "25 day input [0.86932344 0.87205595 0.87760914 0.87844654 0.88677636 0.89792686\n",
      " 0.93230385 0.94473243 0.97152887 0.98999544 0.99603342 0.98550001\n",
      " 0.98316411 0.9949316  0.98197416 0.99475535 0.98051973 0.98545589\n",
      " 0.98536777 0.97743462 0.98527964 0.97646503 0.96337535 0.957117\n",
      " 0.96236165 0.97302731 0.9743495  0.96945746 0.96540265 0.96148019\n",
      " 0.96619599 0.98805627 1.         0.9868222  0.98201828 0.97360028\n",
      " 0.99012768 0.98536777 0.98461855 0.98426594 0.95182823 0.9652264\n",
      " 0.98201828 0.95795435 0.93142239 0.91652567 0.93327343 0.92697097\n",
      " 0.93900293 0.95354704 0.93838595 0.9334938  0.92340111 0.94019288\n",
      " 0.91092842 0.92459106 0.92044813 0.94164732 0.96465343 0.94292539\n",
      " 0.93988439 0.93477188 0.95738138 0.95350292 0.96822339 0.96460942\n",
      " 0.95438439 0.94896349 0.94468831 0.94548165 0.96676896 0.97337992\n",
      " 0.96813527 0.98946658 0.97752274 0.93608958 0.89760834 0.86930043\n",
      " 0.85033602 0.83716977 0.82647914 0.81632388 0.80605972 0.79579443\n",
      " 0.78587031 0.7765587  0.76795948 0.76002556 0.75263423 0.7456513\n",
      " 0.7389679  0.73250973 0.72623545 0.72012269 0.71416026 0.70834017\n",
      " 0.70265508 0.69709861 0.69166511 0.68634897]\n",
      "25 day output [[0.68114656]]\n",
      "26 day input [0.87205595 0.87760914 0.87844654 0.88677636 0.89792686 0.93230385\n",
      " 0.94473243 0.97152887 0.98999544 0.99603342 0.98550001 0.98316411\n",
      " 0.9949316  0.98197416 0.99475535 0.98051973 0.98545589 0.98536777\n",
      " 0.97743462 0.98527964 0.97646503 0.96337535 0.957117   0.96236165\n",
      " 0.97302731 0.9743495  0.96945746 0.96540265 0.96148019 0.96619599\n",
      " 0.98805627 1.         0.9868222  0.98201828 0.97360028 0.99012768\n",
      " 0.98536777 0.98461855 0.98426594 0.95182823 0.9652264  0.98201828\n",
      " 0.95795435 0.93142239 0.91652567 0.93327343 0.92697097 0.93900293\n",
      " 0.95354704 0.93838595 0.9334938  0.92340111 0.94019288 0.91092842\n",
      " 0.92459106 0.92044813 0.94164732 0.96465343 0.94292539 0.93988439\n",
      " 0.93477188 0.95738138 0.95350292 0.96822339 0.96460942 0.95438439\n",
      " 0.94896349 0.94468831 0.94548165 0.96676896 0.97337992 0.96813527\n",
      " 0.98946658 0.97752274 0.93608958 0.89760834 0.86930043 0.85033602\n",
      " 0.83716977 0.82647914 0.81632388 0.80605972 0.79579443 0.78587031\n",
      " 0.7765587  0.76795948 0.76002556 0.75263423 0.7456513  0.7389679\n",
      " 0.73250973 0.72623545 0.72012269 0.71416026 0.70834017 0.70265508\n",
      " 0.69709861 0.69166511 0.68634897 0.68114656]\n"
     ]
    },
    {
     "name": "stdout",
     "output_type": "stream",
     "text": [
      "26 day output [[0.6760559]]\n",
      "27 day input [0.87760914 0.87844654 0.88677636 0.89792686 0.93230385 0.94473243\n",
      " 0.97152887 0.98999544 0.99603342 0.98550001 0.98316411 0.9949316\n",
      " 0.98197416 0.99475535 0.98051973 0.98545589 0.98536777 0.97743462\n",
      " 0.98527964 0.97646503 0.96337535 0.957117   0.96236165 0.97302731\n",
      " 0.9743495  0.96945746 0.96540265 0.96148019 0.96619599 0.98805627\n",
      " 1.         0.9868222  0.98201828 0.97360028 0.99012768 0.98536777\n",
      " 0.98461855 0.98426594 0.95182823 0.9652264  0.98201828 0.95795435\n",
      " 0.93142239 0.91652567 0.93327343 0.92697097 0.93900293 0.95354704\n",
      " 0.93838595 0.9334938  0.92340111 0.94019288 0.91092842 0.92459106\n",
      " 0.92044813 0.94164732 0.96465343 0.94292539 0.93988439 0.93477188\n",
      " 0.95738138 0.95350292 0.96822339 0.96460942 0.95438439 0.94896349\n",
      " 0.94468831 0.94548165 0.96676896 0.97337992 0.96813527 0.98946658\n",
      " 0.97752274 0.93608958 0.89760834 0.86930043 0.85033602 0.83716977\n",
      " 0.82647914 0.81632388 0.80605972 0.79579443 0.78587031 0.7765587\n",
      " 0.76795948 0.76002556 0.75263423 0.7456513  0.7389679  0.73250973\n",
      " 0.72623545 0.72012269 0.71416026 0.70834017 0.70265508 0.69709861\n",
      " 0.69166511 0.68634897 0.68114656 0.67605591]\n",
      "27 day output [[0.6710745]]\n",
      "28 day input [0.87844654 0.88677636 0.89792686 0.93230385 0.94473243 0.97152887\n",
      " 0.98999544 0.99603342 0.98550001 0.98316411 0.9949316  0.98197416\n",
      " 0.99475535 0.98051973 0.98545589 0.98536777 0.97743462 0.98527964\n",
      " 0.97646503 0.96337535 0.957117   0.96236165 0.97302731 0.9743495\n",
      " 0.96945746 0.96540265 0.96148019 0.96619599 0.98805627 1.\n",
      " 0.9868222  0.98201828 0.97360028 0.99012768 0.98536777 0.98461855\n",
      " 0.98426594 0.95182823 0.9652264  0.98201828 0.95795435 0.93142239\n",
      " 0.91652567 0.93327343 0.92697097 0.93900293 0.95354704 0.93838595\n",
      " 0.9334938  0.92340111 0.94019288 0.91092842 0.92459106 0.92044813\n",
      " 0.94164732 0.96465343 0.94292539 0.93988439 0.93477188 0.95738138\n",
      " 0.95350292 0.96822339 0.96460942 0.95438439 0.94896349 0.94468831\n",
      " 0.94548165 0.96676896 0.97337992 0.96813527 0.98946658 0.97752274\n",
      " 0.93608958 0.89760834 0.86930043 0.85033602 0.83716977 0.82647914\n",
      " 0.81632388 0.80605972 0.79579443 0.78587031 0.7765587  0.76795948\n",
      " 0.76002556 0.75263423 0.7456513  0.7389679  0.73250973 0.72623545\n",
      " 0.72012269 0.71416026 0.70834017 0.70265508 0.69709861 0.69166511\n",
      " 0.68634897 0.68114656 0.67605591 0.67107451]\n",
      "28 day output [[0.6662014]]\n",
      "29 day input [0.88677636 0.89792686 0.93230385 0.94473243 0.97152887 0.98999544\n",
      " 0.99603342 0.98550001 0.98316411 0.9949316  0.98197416 0.99475535\n",
      " 0.98051973 0.98545589 0.98536777 0.97743462 0.98527964 0.97646503\n",
      " 0.96337535 0.957117   0.96236165 0.97302731 0.9743495  0.96945746\n",
      " 0.96540265 0.96148019 0.96619599 0.98805627 1.         0.9868222\n",
      " 0.98201828 0.97360028 0.99012768 0.98536777 0.98461855 0.98426594\n",
      " 0.95182823 0.9652264  0.98201828 0.95795435 0.93142239 0.91652567\n",
      " 0.93327343 0.92697097 0.93900293 0.95354704 0.93838595 0.9334938\n",
      " 0.92340111 0.94019288 0.91092842 0.92459106 0.92044813 0.94164732\n",
      " 0.96465343 0.94292539 0.93988439 0.93477188 0.95738138 0.95350292\n",
      " 0.96822339 0.96460942 0.95438439 0.94896349 0.94468831 0.94548165\n",
      " 0.96676896 0.97337992 0.96813527 0.98946658 0.97752274 0.93608958\n",
      " 0.89760834 0.86930043 0.85033602 0.83716977 0.82647914 0.81632388\n",
      " 0.80605972 0.79579443 0.78587031 0.7765587  0.76795948 0.76002556\n",
      " 0.75263423 0.7456513  0.7389679  0.73250973 0.72623545 0.72012269\n",
      " 0.71416026 0.70834017 0.70265508 0.69709861 0.69166511 0.68634897\n",
      " 0.68114656 0.67605591 0.67107451 0.66620141]\n",
      "29 day output [[0.6614352]]\n",
      "[[0.9360895752906799], [0.8976083397865295], [0.8693004250526428], [0.8503360152244568], [0.8371697664260864], [0.8264791369438171], [0.8163238763809204], [0.806059718132019], [0.7957944273948669], [0.7858703136444092], [0.7765586972236633], [0.767959475517273], [0.7600255608558655], [0.7526342272758484], [0.7456513047218323], [0.7389678955078125], [0.7325097322463989], [0.7262354493141174], [0.7201226949691772], [0.7141602635383606], [0.7083401679992676], [0.7026550769805908], [0.6970986127853394], [0.6916651129722595], [0.6863489747047424], [0.6811465620994568], [0.676055908203125], [0.6710745096206665], [0.6662014126777649], [0.6614351868629456]]\n"
     ]
    }
   ],
   "source": [
    "# demonstrate prediction for next 10 days\n",
    "from numpy import array\n",
    "\n",
    "lst_output=[]\n",
    "n_steps=100\n",
    "i=0\n",
    "while(i<30):\n",
    "    \n",
    "    if(len(temp_input)>100):\n",
    "        #print(temp_input)\n",
    "        x_input=np.array(temp_input[1:])\n",
    "        print(\"{} day input {}\".format(i,x_input))\n",
    "        x_input=x_input.reshape(1,-1)\n",
    "        x_input = x_input.reshape((1, n_steps, 1))\n",
    "        #print(x_input)\n",
    "        yhat = model.predict(x_input, verbose=0)\n",
    "        print(\"{} day output {}\".format(i,yhat))\n",
    "        temp_input.extend(yhat[0].tolist())\n",
    "        temp_input=temp_input[1:]\n",
    "        #print(temp_input)\n",
    "        lst_output.extend(yhat.tolist())\n",
    "        i=i+1\n",
    "    else:\n",
    "        x_input = x_input.reshape((1, n_steps,1))\n",
    "        yhat = model.predict(x_input, verbose=0)\n",
    "        print(yhat[0])\n",
    "        temp_input.extend(yhat[0].tolist())\n",
    "        print(len(temp_input))\n",
    "        lst_output.extend(yhat.tolist())\n",
    "        i=i+1\n",
    "    \n",
    "\n",
    "print(lst_output)"
   ]
  },
  {
   "cell_type": "code",
   "execution_count": 48,
   "id": "148c4e5a",
   "metadata": {},
   "outputs": [],
   "source": [
    "day_new=np.arange(1,101)\n",
    "day_pred=np.arange(101,131)"
   ]
  },
  {
   "cell_type": "code",
   "execution_count": 49,
   "id": "a7730fd0",
   "metadata": {},
   "outputs": [],
   "source": [
    "import matplotlib.pyplot as plt"
   ]
  },
  {
   "cell_type": "code",
   "execution_count": 50,
   "id": "64f68372",
   "metadata": {},
   "outputs": [
    {
     "data": {
      "text/plain": [
       "6323"
      ]
     },
     "execution_count": 50,
     "metadata": {},
     "output_type": "execute_result"
    }
   ],
   "source": [
    "len(df1)"
   ]
  },
  {
   "cell_type": "code",
   "execution_count": 51,
   "id": "e28a7a20",
   "metadata": {},
   "outputs": [
    {
     "data": {
      "text/plain": [
       "[<matplotlib.lines.Line2D at 0x1bc96b8d0f0>]"
      ]
     },
     "execution_count": 51,
     "metadata": {},
     "output_type": "execute_result"
    },
    {
     "data": {
      "image/png": "[encoded data removed]",
      "text/plain": [
       "<Figure size 640x480 with 1 Axes>"
      ]
     },
     "metadata": {},
     "output_type": "display_data"
    }
   ],
   "source": [
    "\n",
    "plt.plot(day_new,scaler.inverse_transform(df1[6223:]))\n",
    "plt.plot(day_pred,scaler.inverse_transform(lst_output))"
   ]
  },
  {
   "cell_type": "code",
   "execution_count": 52,
   "id": "eda16915",
   "metadata": {},
   "outputs": [
    {
     "data": {
      "text/plain": [
       "[<matplotlib.lines.Line2D at 0x1bc908e58a0>]"
      ]
     },
     "execution_count": 52,
     "metadata": {},
     "output_type": "execute_result"
    },
    {
     "data": {
      "image/png": "[encoded data removed]",
      "text/plain": [
       "<Figure size 640x480 with 1 Axes>"
      ]
     },
     "metadata": {},
     "output_type": "display_data"
    }
   ],
   "source": [
    "df3=df1.tolist()\n",
    "df3.extend(lst_output)\n",
    "plt.plot(df3[1200:])"
   ]
  },
  {
   "cell_type": "code",
   "execution_count": null,
   "id": "6f6f2b0a",
   "metadata": {},
   "outputs": [],
   "source": [
    "#end"
   ]
  }
 ],
 "metadata": {
  "kernelspec": {
   "display_name": "Python 3 (ipykernel)",
   "language": "python",
   "name": "python3"
  },
  "language_info": {
   "codemirror_mode": {
    "name": "ipython",
    "version": 3
   },
   "file_extension": ".py",
   "mimetype": "text/x-python",
   "name": "python",
   "nbconvert_exporter": "python",
   "pygments_lexer": "ipython3",
   "version": "3.10.8"
  }
 },
 "nbformat": 4,
 "nbformat_minor": 5
}
